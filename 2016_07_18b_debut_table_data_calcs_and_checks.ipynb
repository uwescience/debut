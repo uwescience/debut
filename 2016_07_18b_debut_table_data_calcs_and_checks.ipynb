{
 "metadata": {
  "name": "",
  "signature": "sha256:4ac6c2d4d842903fb25f0516c95c0ef633683f697744712ef3d4438f90c62d6e"
 },
 "nbformat": 3,
 "nbformat_minor": 0,
 "worksheets": [
  {
   "cells": [
    {
     "cell_type": "code",
     "collapsed": false,
     "input": [
      "!date\n",
      "import numpy as np, pandas as pd, matplotlib.pyplot as plt, seaborn as sns\n",
      "%matplotlib inline\n",
      "sns.set_context('paper')\n",
      "sns.set_style('darkgrid')\n",
      "pd.set_option('max_rows',10)\n",
      "\n",
      "import time"
     ],
     "language": "python",
     "metadata": {},
     "outputs": [
      {
       "output_type": "stream",
       "stream": "stdout",
       "text": [
        "Sat Jul 30 14:39:58 PDT 2016\r\n"
       ]
      }
     ],
     "prompt_number": 2
    },
    {
     "cell_type": "code",
     "collapsed": false,
     "input": [
      "import sklearn.naive_bayes, sklearn.model_selection"
     ],
     "language": "python",
     "metadata": {},
     "outputs": [],
     "prompt_number": 3
    },
    {
     "cell_type": "code",
     "collapsed": false,
     "input": [
      "import glob"
     ],
     "language": "python",
     "metadata": {},
     "outputs": [],
     "prompt_number": 4
    },
    {
     "cell_type": "code",
     "collapsed": false,
     "input": [
      "dname='/home/j/LIMITED_USE/PROJECT_FOLDERS/DEBUT/prepped_data/'"
     ],
     "language": "python",
     "metadata": {},
     "outputs": [],
     "prompt_number": 5
    },
    {
     "cell_type": "code",
     "collapsed": false,
     "input": [
      "%%time\n",
      "\n",
      "# fast for testing\n",
      "#nrows = 10000\n",
      "# full data\n",
      "nrows = None\n",
      "\n",
      "df_dict = {}\n",
      "for fname in sorted(glob.glob(dname + '20*.csv')):\n",
      "    t = pd.read_csv(fname, nrows=nrows, index_col='id')\n",
      "    y = t.year.iloc[0]\n",
      "    assert np.all(t.year == y)\n",
      "    df_dict[y] = t"
     ],
     "language": "python",
     "metadata": {},
     "outputs": [
      {
       "output_type": "stream",
       "stream": "stdout",
       "text": [
        "CPU times: user 4min 12s, sys: 14.5 s, total: 4min 26s\n",
        "Wall time: 4min 28s\n"
       ]
      }
     ],
     "prompt_number": 6
    },
    {
     "cell_type": "code",
     "collapsed": false,
     "input": [
      "%%time\n",
      "\n",
      "# merge code sequence and every surgery for all years for these patients\n",
      "t = df_dict[2007]\n",
      "\n",
      "code_seq = t.code_seq.fillna('')\n",
      "date_seq = t.date_seq.fillna('')\n",
      "emrg_seq = t.emrg_seq.fillna('')\n",
      "in_seq = t.in_seq.fillna('')\n",
      "\n",
      "for y in range(2008, 2015):\n",
      "    t = df_dict[y]\n",
      "\n",
      "    code_seq += ' '\n",
      "    code_seq = code_seq.add(t.code_seq, fill_value='')\n",
      "    \n",
      "    date_seq += ' '\n",
      "    date_seq = date_seq.add(t.date_seq, fill_value='')\n",
      "\n",
      "    emrg_seq += ' '\n",
      "    emrg_seq = emrg_seq.add(t.emrg_seq, fill_value='')\n",
      "    \n",
      "    in_seq += ' '\n",
      "    in_seq = in_seq.add(t.in_seq, fill_value='')\n",
      "    \n",
      "code_seq = code_seq.fillna('')\n",
      "date_seq = date_seq.fillna('')\n",
      "emrg_seq = emrg_seq.fillna('')\n",
      "in_seq = in_seq.fillna('')"
     ],
     "language": "python",
     "metadata": {},
     "outputs": [
      {
       "output_type": "stream",
       "stream": "stdout",
       "text": [
        "CPU times: user 1min 22s, sys: 12.1 s, total: 1min 34s\n",
        "Wall time: 1min 34s\n"
       ]
      }
     ],
     "prompt_number": 7
    },
    {
     "cell_type": "code",
     "collapsed": false,
     "input": [
      "t.head()"
     ],
     "language": "python",
     "metadata": {},
     "outputs": [
      {
       "html": [
        "<div style=\"max-width:1500px;overflow:auto;\">\n",
        "<table border=\"1\" class=\"dataframe\">\n",
        "  <thead>\n",
        "    <tr style=\"text-align: right;\">\n",
        "      <th></th>\n",
        "      <th>year</th>\n",
        "      <th>age</th>\n",
        "      <th>sex</th>\n",
        "      <th>dvt</th>\n",
        "      <th>emergency_dvt</th>\n",
        "      <th>dvt_surgery</th>\n",
        "      <th>fully_enrolled</th>\n",
        "      <th>code_seq</th>\n",
        "      <th>date_seq</th>\n",
        "      <th>emrg_seq</th>\n",
        "      <th>out_seq</th>\n",
        "      <th>in_seq</th>\n",
        "    </tr>\n",
        "    <tr>\n",
        "      <th>id</th>\n",
        "      <th></th>\n",
        "      <th></th>\n",
        "      <th></th>\n",
        "      <th></th>\n",
        "      <th></th>\n",
        "      <th></th>\n",
        "      <th></th>\n",
        "      <th></th>\n",
        "      <th></th>\n",
        "      <th></th>\n",
        "      <th></th>\n",
        "      <th></th>\n",
        "    </tr>\n",
        "  </thead>\n",
        "  <tbody>\n",
        "    <tr>\n",
        "      <th>278802</th>\n",
        "      <td>2014</td>\n",
        "      <td>62</td>\n",
        "      <td>2</td>\n",
        "      <td>1</td>\n",
        "      <td>1</td>\n",
        "      <td>0</td>\n",
        "      <td>1</td>\n",
        "      <td>ndc-00378181501 icd9-07819 cpt-17110 ndc-00172...</td>\n",
        "      <td>2014-01-29 2014-02-18 2014-02-18 2014-02-18 20...</td>\n",
        "      <td>0 0 0 0 0 0 0 0 0 0 0 0 0 0 0 0 0 0 0 0 0 0 0 ...</td>\n",
        "      <td>0 1 1 0 1 1 1 1 0 1 1 1 1 1 1 1 1 1 1 1 1 1 1 ...</td>\n",
        "      <td>0 0 0 0 0 0 0 0 0 0 0 0 0 0 0 0 0 0 0 0 0 0 0 ...</td>\n",
        "    </tr>\n",
        "    <tr>\n",
        "      <th>558201</th>\n",
        "      <td>2014</td>\n",
        "      <td>59</td>\n",
        "      <td>2</td>\n",
        "      <td>0</td>\n",
        "      <td>0</td>\n",
        "      <td>0</td>\n",
        "      <td>1</td>\n",
        "      <td>ndc-68382002810 ndc-65862005090 ndc-0037802311...</td>\n",
        "      <td>2014-01-13 2014-01-13 2014-01-16 2014-02-10 20...</td>\n",
        "      <td>0 0 0 0 0 0 0 0 0 0 0 0 0 0 0 0 0 0 0 0 0 0 0 ...</td>\n",
        "      <td>0 0 0 0 0 0 0 1 1 1 0 0 0 0 0 1 1 1 1 1 1 1 0 ...</td>\n",
        "      <td>0 0 0 0 0 0 0 0 0 0 0 0 0 0 0 0 0 0 0 0 0 0 0 ...</td>\n",
        "    </tr>\n",
        "    <tr>\n",
        "      <th>917402</th>\n",
        "      <td>2014</td>\n",
        "      <td>63</td>\n",
        "      <td>1</td>\n",
        "      <td>1</td>\n",
        "      <td>0</td>\n",
        "      <td>0</td>\n",
        "      <td>1</td>\n",
        "      <td>ndc-66582041431 ndc-00310075430 ndc-1037001020...</td>\n",
        "      <td>2014-01-20 2014-01-20 2014-01-24 2014-03-01 20...</td>\n",
        "      <td>0 0 0 0 0 0 0 0 0 0 0 0 0 0 0 0 0 0 0 0 0 0 0 ...</td>\n",
        "      <td>0 0 0 0 0 0 0 1 1 1 0 1 1 1 1 1 1 0 0 0 0 0 1 ...</td>\n",
        "      <td>0 0 0 0 0 0 0 0 0 0 0 0 0 0 0 0 0 0 0 0 0 0 0 ...</td>\n",
        "    </tr>\n",
        "    <tr>\n",
        "      <th>1242902</th>\n",
        "      <td>2014</td>\n",
        "      <td>60</td>\n",
        "      <td>2</td>\n",
        "      <td>0</td>\n",
        "      <td>0</td>\n",
        "      <td>0</td>\n",
        "      <td>1</td>\n",
        "      <td>ndc-59762669003 icd9-7265 cpt-99203 ndc-006035...</td>\n",
        "      <td>2014-01-03 2014-01-13 2014-01-13 2014-01-13 20...</td>\n",
        "      <td>0 0 0 0 0 0 0 0 0 0 0 0 0 0 0 0 0 0 0 0 0 0 0 ...</td>\n",
        "      <td>0 1 1 0 1 1 1 1 0 1 1 1 1 1 1 1 1 1 1 1 1 1 1 ...</td>\n",
        "      <td>0 0 0 0 0 0 0 0 0 0 0 0 0 0 0 0 0 0 0 0 0 0 0 ...</td>\n",
        "    </tr>\n",
        "    <tr>\n",
        "      <th>1685002</th>\n",
        "      <td>2014</td>\n",
        "      <td>57</td>\n",
        "      <td>2</td>\n",
        "      <td>0</td>\n",
        "      <td>0</td>\n",
        "      <td>0</td>\n",
        "      <td>1</td>\n",
        "      <td>icd9-71947 cpt-20600 icd9-71947 cpt-J3301 icd9...</td>\n",
        "      <td>2014-01-17 2014-01-17 2014-01-17 2014-01-17 20...</td>\n",
        "      <td>0 0 0 0 0 0 0 0 0 0 0 0 0 0 0 0 0 0 0 0 0 0 0 ...</td>\n",
        "      <td>1 1 1 1 1 1 1 1 1 1 1 1 1 1 1 1 1 1 1 1 1 1 1 ...</td>\n",
        "      <td>0 0 0 0 0 0 0 0 0 0 0 0 0 0 0 0 0 0 0 0 0 0 0 ...</td>\n",
        "    </tr>\n",
        "  </tbody>\n",
        "</table>\n",
        "</div>"
       ],
       "metadata": {},
       "output_type": "pyout",
       "prompt_number": 8,
       "text": [
        "         year  age  sex  dvt  emergency_dvt  dvt_surgery  fully_enrolled  \\\n",
        "id                                                                         \n",
        "278802   2014   62    2    1              1            0               1   \n",
        "558201   2014   59    2    0              0            0               1   \n",
        "917402   2014   63    1    1              0            0               1   \n",
        "1242902  2014   60    2    0              0            0               1   \n",
        "1685002  2014   57    2    0              0            0               1   \n",
        "\n",
        "                                                  code_seq  \\\n",
        "id                                                           \n",
        "278802   ndc-00378181501 icd9-07819 cpt-17110 ndc-00172...   \n",
        "558201   ndc-68382002810 ndc-65862005090 ndc-0037802311...   \n",
        "917402   ndc-66582041431 ndc-00310075430 ndc-1037001020...   \n",
        "1242902  ndc-59762669003 icd9-7265 cpt-99203 ndc-006035...   \n",
        "1685002  icd9-71947 cpt-20600 icd9-71947 cpt-J3301 icd9...   \n",
        "\n",
        "                                                  date_seq  \\\n",
        "id                                                           \n",
        "278802   2014-01-29 2014-02-18 2014-02-18 2014-02-18 20...   \n",
        "558201   2014-01-13 2014-01-13 2014-01-16 2014-02-10 20...   \n",
        "917402   2014-01-20 2014-01-20 2014-01-24 2014-03-01 20...   \n",
        "1242902  2014-01-03 2014-01-13 2014-01-13 2014-01-13 20...   \n",
        "1685002  2014-01-17 2014-01-17 2014-01-17 2014-01-17 20...   \n",
        "\n",
        "                                                  emrg_seq  \\\n",
        "id                                                           \n",
        "278802   0 0 0 0 0 0 0 0 0 0 0 0 0 0 0 0 0 0 0 0 0 0 0 ...   \n",
        "558201   0 0 0 0 0 0 0 0 0 0 0 0 0 0 0 0 0 0 0 0 0 0 0 ...   \n",
        "917402   0 0 0 0 0 0 0 0 0 0 0 0 0 0 0 0 0 0 0 0 0 0 0 ...   \n",
        "1242902  0 0 0 0 0 0 0 0 0 0 0 0 0 0 0 0 0 0 0 0 0 0 0 ...   \n",
        "1685002  0 0 0 0 0 0 0 0 0 0 0 0 0 0 0 0 0 0 0 0 0 0 0 ...   \n",
        "\n",
        "                                                   out_seq  \\\n",
        "id                                                           \n",
        "278802   0 1 1 0 1 1 1 1 0 1 1 1 1 1 1 1 1 1 1 1 1 1 1 ...   \n",
        "558201   0 0 0 0 0 0 0 1 1 1 0 0 0 0 0 1 1 1 1 1 1 1 0 ...   \n",
        "917402   0 0 0 0 0 0 0 1 1 1 0 1 1 1 1 1 1 0 0 0 0 0 1 ...   \n",
        "1242902  0 1 1 0 1 1 1 1 0 1 1 1 1 1 1 1 1 1 1 1 1 1 1 ...   \n",
        "1685002  1 1 1 1 1 1 1 1 1 1 1 1 1 1 1 1 1 1 1 1 1 1 1 ...   \n",
        "\n",
        "                                                    in_seq  \n",
        "id                                                          \n",
        "278802   0 0 0 0 0 0 0 0 0 0 0 0 0 0 0 0 0 0 0 0 0 0 0 ...  \n",
        "558201   0 0 0 0 0 0 0 0 0 0 0 0 0 0 0 0 0 0 0 0 0 0 0 ...  \n",
        "917402   0 0 0 0 0 0 0 0 0 0 0 0 0 0 0 0 0 0 0 0 0 0 0 ...  \n",
        "1242902  0 0 0 0 0 0 0 0 0 0 0 0 0 0 0 0 0 0 0 0 0 0 0 ...  \n",
        "1685002  0 0 0 0 0 0 0 0 0 0 0 0 0 0 0 0 0 0 0 0 0 0 0 ...  "
       ]
      }
     ],
     "prompt_number": 8
    },
    {
     "cell_type": "code",
     "collapsed": false,
     "input": [
      "colonic_dvt_codes = '56211 56213'.split()\n",
      "\n",
      "# need to prepend icd9 to the cause list\n",
      "colonic_dvt_codes = ['icd9-'+c for c in colonic_dvt_codes]"
     ],
     "language": "python",
     "metadata": {},
     "outputs": [],
     "prompt_number": 9
    },
    {
     "cell_type": "code",
     "collapsed": false,
     "input": [
      "# Using the MarketScan Commercial Claims database (Truven Health Analytics),\n",
      "# we selected all adult patients with a new diagnosis of diverticulitis\n",
      "# and two years of continuous enrollment before and after the year of diagnosis\n",
      "\n",
      "def is_included(id):\n",
      "    cs = pd.Series(code_seq[id].split())\n",
      "    ix, = np.where(cs.isin(colonic_dvt_codes)) # trailing comma in \"ix,\" is weird, used because np.where has strange return format\n",
      "    if len(ix) == 0:\n",
      "        return False  # no dx, should not be in cohort\n",
      "    \n",
      "    ds = date_seq[id].split()\n",
      "    date_of_dx = pd.Timestamp(ds[ix[0]])\n",
      "    year_of_dx = date_of_dx.year\n",
      "    \n",
      "    enrollment = {}\n",
      "    for year in [year_of_dx-2, year_of_dx-1, year_of_dx, year_of_dx+1, year_of_dx+2]:\n",
      "        if year not in df_dict:\n",
      "            return False\n",
      "        else:\n",
      "            df = df_dict[year]\n",
      "            if id not in df.index:\n",
      "                return False\n",
      "            else:\n",
      "                enrollment[year] = df.loc[id, 'fully_enrolled'] == 1\n",
      "    return np.all(enrollment.values())\n",
      "\n",
      "is_included(74901)\n",
      "# TODO: test carefully"
     ],
     "language": "python",
     "metadata": {},
     "outputs": [
      {
       "metadata": {},
       "output_type": "pyout",
       "prompt_number": 10,
       "text": [
        "False"
       ]
      }
     ],
     "prompt_number": 10
    },
    {
     "cell_type": "code",
     "collapsed": false,
     "input": [
      "%%time\n",
      "\n",
      "initially_included_subjects = pd.Series(code_seq.index, index=code_seq.index).map(is_included)"
     ],
     "language": "python",
     "metadata": {},
     "outputs": [
      {
       "output_type": "stream",
       "stream": "stdout",
       "text": [
        "CPU times: user 16min 10s, sys: 0 ns, total: 16min 10s\n",
        "Wall time: 16min 9s\n"
       ]
      }
     ],
     "prompt_number": 11
    },
    {
     "cell_type": "code",
     "collapsed": false,
     "input": [
      "initially_included_subjects = initially_included_subjects[initially_included_subjects].index\n",
      "len(initially_included_subjects)"
     ],
     "language": "python",
     "metadata": {},
     "outputs": [
      {
       "metadata": {},
       "output_type": "pyout",
       "prompt_number": 12,
       "text": [
        "89914"
       ]
      }
     ],
     "prompt_number": 12
    },
    {
     "cell_type": "code",
     "collapsed": false,
     "input": [
      "# Patients were excluded if they had surgery prior to the first diagnosis code, or in the 6 weeks following first diagnosis,\n",
      "# if they had surgery for cancer, or if they had emergency surgery as defined by an emergency code within 1 week of surgery. \n",
      "\n",
      "cancer_surgery_ICD_codes = '153 153.0 153.1 153.2 153.3 153.4 153.5 153.6 153.7 153.8 153.9 154 154.0 154.1 154.2 154.3' \\\n",
      "    + ' 154.8 209.10 209.11 209.12 209.13 209.14 209.15 209.16 209.50 209.51 209.52 209.53 209.54 209.55 209.56 230.3 230.4 556.4'\n",
      "cancer_surgery_ICD_codes = cancer_surgery_ICD_codes.replace('.', '').split()\n",
      "cancer_surgery_ICD_codes = set(['icd9-'+x for x in cancer_surgery_ICD_codes])\n",
      "\n",
      "def surgery_for_cancer(code_seq):\n",
      "    icd_codes_in_seq = cancer_surgery_ICD_codes & set(code_seq.split())\n",
      "    return int(len(icd_codes_in_seq) > 0)\n",
      "surgery_for_cancer(code_seq[28201])\n",
      "# TODO: test more"
     ],
     "language": "python",
     "metadata": {},
     "outputs": [
      {
       "metadata": {},
       "output_type": "pyout",
       "prompt_number": 13,
       "text": [
        "0"
       ]
      }
     ],
     "prompt_number": 13
    },
    {
     "cell_type": "code",
     "collapsed": false,
     "input": [
      "surgery_ICD_codes = '045.41 045.7 045.71 045.72 045.73 045.74 045.75 045.76 045.79 045.8 045.82 045.83 045.92 045.93 045.94 046.01 ' \\\n",
      "    + '046.03 046.04 046.1 046.10 046.11 046.13 046.14 0462 04620 04621 04622 04623 04624 046.43 048.62 048.63 017.3 017.31 017.32 017.33 ' \\\n",
      "    + '017.34 017.35 017.36 017.39 045.81'\n",
      "surgery_ICD_codes = surgery_ICD_codes.replace('.', '').split()\n",
      "\n",
      "surgery_CPT_codes = '44110 44111 44130 44139 44140 44141 44143 44144 44145 44146 44147 44150 44151 44155 ' \\\n",
      "    + '44156 44157 44158 44160 44320 44187 44188 44204 44205 44206 44207 44208 44210 44211 44212 44213 44227 44238'\n",
      "surgery_CPT_codes = surgery_CPT_codes.split()\n",
      "\n",
      "# need to prepend icd9 and cpt to these cause lists\n",
      "surgery_ICD_codes = ['icd9-'+c for c in surgery_ICD_codes]\n",
      "surgery_CPT_codes = ['cpt-'+c for c in surgery_CPT_codes]"
     ],
     "language": "python",
     "metadata": {},
     "outputs": [],
     "prompt_number": 14
    },
    {
     "cell_type": "code",
     "collapsed": false,
     "input": [
      "'icd9-04610' in surgery_ICD_codes"
     ],
     "language": "python",
     "metadata": {},
     "outputs": [
      {
       "metadata": {},
       "output_type": "pyout",
       "prompt_number": 15,
       "text": [
        "True"
       ]
      }
     ],
     "prompt_number": 15
    },
    {
     "cell_type": "code",
     "collapsed": false,
     "input": [
      "# if they had emergency surgery as defined by an emergency code\n",
      "# within 1 week of surgery. \n",
      "\n",
      "def emergency_surgery(id):\n",
      "    \"\"\" use code_seq, data_seq, and emrg_seq\"\"\"\n",
      "    t = pd.Series(code_seq[id].split())\n",
      "    ix, = np.where(t.isin(surgery_CPT_codes + surgery_ICD_codes))\n",
      "    if len(ix) == 0:\n",
      "        # no surgery => not emergent\n",
      "        return 0\n",
      "    # index of first surgery encounter\n",
      "    i = ix[0]\n",
      "    \n",
      "    # date of first surgery\n",
      "    tt = pd.Series(date_seq[id].split()).map(pd.Timestamp)\n",
      "    t0 = tt[i]\n",
      "    \n",
      "    # indices of all encounters from surgery to week after surgery\n",
      "    t1 = t0 + pd.Timedelta(weeks=1)\n",
      "\n",
      "    # 1 week before surgery is also within 1 week of surgery\n",
      "    t0 = t0 - pd.Timedelta(weeks=1)\n",
      "    \n",
      "    # limitation of this approach: misses elective surgery that leads to emergent encounter\n",
      "    ix, = np.where((tt >= t0) & (tt < t1))\n",
      "    \n",
      "    # was any in an emergency setting?\n",
      "    ttt = pd.Series(emrg_seq[id].split()).map(int)\n",
      "    return int(np.any(ttt[ix]))\n",
      "\n",
      "emergency_surgery(212002)\n",
      "# TODO: test more"
     ],
     "language": "python",
     "metadata": {},
     "outputs": [
      {
       "metadata": {},
       "output_type": "pyout",
       "prompt_number": 16,
       "text": [
        "0"
       ]
      }
     ],
     "prompt_number": 16
    },
    {
     "cell_type": "code",
     "collapsed": false,
     "input": [
      "def additional_exclusions(id):\n",
      "    if surgery_for_cancer(code_seq[id]):\n",
      "        return True\n",
      "    if emergency_surgery(id):\n",
      "        return True\n",
      "    return False\n",
      "additional_exclusions(28201)\n",
      "additional_exclusions(212002)\n",
      "#np.where(np.array(map(additional_exclusions, no_dvt_during_washout))==0)\n",
      "# TODO: test carefully"
     ],
     "language": "python",
     "metadata": {},
     "outputs": [
      {
       "metadata": {},
       "output_type": "pyout",
       "prompt_number": 17,
       "text": [
        "False"
       ]
      }
     ],
     "prompt_number": 17
    },
    {
     "cell_type": "code",
     "collapsed": false,
     "input": [
      "len(initially_included_subjects)"
     ],
     "language": "python",
     "metadata": {},
     "outputs": [
      {
       "metadata": {},
       "output_type": "pyout",
       "prompt_number": 18,
       "text": [
        "89914"
       ]
      }
     ],
     "prompt_number": 18
    },
    {
     "cell_type": "code",
     "collapsed": false,
     "input": [
      "%time subjects = [id for id in list(initially_included_subjects) if not additional_exclusions(id)]"
     ],
     "language": "python",
     "metadata": {},
     "outputs": [
      {
       "output_type": "stream",
       "stream": "stdout",
       "text": [
        "CPU times: user 2min 40s, sys: 0 ns, total: 2min 40s\n",
        "Wall time: 2min 40s\n"
       ]
      }
     ],
     "prompt_number": 19
    },
    {
     "cell_type": "code",
     "collapsed": false,
     "input": [
      "len(subjects)"
     ],
     "language": "python",
     "metadata": {},
     "outputs": [
      {
       "metadata": {},
       "output_type": "pyout",
       "prompt_number": 20,
       "text": [
        "86642"
       ]
      }
     ],
     "prompt_number": 20
    },
    {
     "cell_type": "code",
     "collapsed": false,
     "input": [
      "# In order to ensure equal exposure, we collected claims data for the XXX weeks before the diagnosis to YYY weeks after diagnosis\n",
      "\n",
      "weeks_before = 52\n",
      "weeks_after = 104\n",
      "\n",
      "subjs_wo_dx = []\n",
      "\n",
      "def seqs_during_exposure_period(id):\n",
      "    \"\"\" use code_seq, data_seq, and emrg_seq\"\"\"\n",
      "    t = pd.Series(code_seq[id].split())\n",
      "    ix, = np.where(t.isin(colonic_dvt_codes)) # ix_,_ is weird because np.where has strange return format\n",
      "    if len(ix) == 0:\n",
      "        # no dx, should not be in cohort\n",
      "        subjs_wo_dx.append(id)\n",
      "        return pd.Series(\n",
      "            {'code_seq': np.nan,\n",
      "             'date_seq': np.nan})\n",
      "    \n",
      "    # index of first diagnosis\n",
      "    i = ix[0]\n",
      "    \n",
      "    # date of first dx\n",
      "    tt = pd.Series(date_seq[id].split()).map(pd.Timestamp)\n",
      "    t1 = tt[i]\n",
      "    \n",
      "    # XXX weeks before dx\n",
      "    t0 = t1 - pd.Timedelta(weeks=weeks_before)\n",
      "    \n",
      "    # YYY weeks after dx\n",
      "    t1 = t1 + pd.Timedelta(weeks=weeks_after)\n",
      "    \n",
      "    ix, = np.where((tt >= t0) & (tt < t1))\n",
      "\n",
      "    return pd.Series(\n",
      "            {'code_seq': ' '.join(t[ix]),\n",
      "             'date_seq': ' '.join([d.strftime('%Y-%m-%d') for d in tt[ix]])})\n",
      "\n",
      "seqs_during_exposure_period(8980502)\n",
      "# TODO: test more"
     ],
     "language": "python",
     "metadata": {},
     "outputs": [
      {
       "metadata": {},
       "output_type": "pyout",
       "prompt_number": 21,
       "text": [
        "code_seq    icd9-72610 cpt-20610 icd9-72610 cpt-82947 icd9...\n",
        "date_seq    2007-01-29 2007-01-29 2007-01-29 2007-01-29 20...\n",
        "dtype: object"
       ]
      }
     ],
     "prompt_number": 21
    },
    {
     "cell_type": "code",
     "collapsed": false,
     "input": [
      "%time patient_df = pd.DataFrame(map(seqs_during_exposure_period, subjects), index=subjects)"
     ],
     "language": "python",
     "metadata": {},
     "outputs": [
      {
       "output_type": "stream",
       "stream": "stdout",
       "text": [
        "CPU times: user 33min 22s, sys: 1.93 s, total: 33min 24s\n",
        "Wall time: 33min 22s\n"
       ]
      }
     ],
     "prompt_number": 22
    },
    {
     "cell_type": "code",
     "collapsed": false,
     "input": [
      "# As outcome, we found the time until surgery for those patients who went on to have surgery\n",
      "\n",
      "def days_until_surgery(s):\n",
      "    cs = s['code_seq'].split()\n",
      "    cs = pd.Series(cs)\n",
      "    surgery_ix, = np.where(cs.isin(surgery_CPT_codes + surgery_ICD_codes))\n",
      "\n",
      "    if len(surgery_ix) > 0:\n",
      "        cs = pd.Series(cs)\n",
      "        ds = pd.Series(s['date_seq'].split())\n",
      "        ds = ds.map(pd.Timestamp)\n",
      "        \n",
      "        surgery_0 = surgery_ix[0]\n",
      "        day_of_surgery = ds[surgery_0]\n",
      "        \n",
      "        dx_ix, = np.where(cs.isin(colonic_dvt_codes))\n",
      "        if len(dx_ix) == 0:\n",
      "            # no dx, should not be in cohort\n",
      "            return np.nan\n",
      "        \n",
      "        # index of first diagnosis\n",
      "        dx_0 = dx_ix[0]\n",
      "        # date of first dx\n",
      "        t0 = ds[dx_0]\n",
      "        return (day_of_surgery - t0).days\n",
      "    else:\n",
      "        return np.inf\n",
      "\n",
      "\n",
      "# test apply\n",
      "pd.DataFrame(dict(code_seq=code_seq, date_seq=date_seq, emrg_seq=emrg_seq))\\\n",
      "    .fillna('').iloc[:10].apply(days_until_surgery, axis=1)\n",
      "# TODO: check if results are correct\n",
      "\n",
      "# test single\n",
      "days_until_surgery({'code_seq': code_seq.iloc[10],\n",
      "                   'date_seq': date_seq.iloc[10],\n",
      "                  })"
     ],
     "language": "python",
     "metadata": {},
     "outputs": [
      {
       "metadata": {},
       "output_type": "pyout",
       "prompt_number": 23,
       "text": [
        "inf"
       ]
      }
     ],
     "prompt_number": 23
    },
    {
     "cell_type": "code",
     "collapsed": false,
     "input": [
      "%%time\n",
      "\n",
      "y_days = pd.DataFrame(dict(code_seq=code_seq, date_seq=date_seq, emrg_seq=emrg_seq))\\\n",
      "    .fillna('').loc[patient_df.index].apply(days_until_surgery, axis=1)\n"
     ],
     "language": "python",
     "metadata": {},
     "outputs": [
      {
       "output_type": "stream",
       "stream": "stdout",
       "text": [
        "CPU times: user 1min 30s, sys: 45 ms, total: 1min 30s\n",
        "Wall time: 1min 30s\n"
       ]
      }
     ],
     "prompt_number": 24
    },
    {
     "cell_type": "code",
     "collapsed": false,
     "input": [
      "def age_at_dx(id):\n",
      "    cs = pd.Series(code_seq[id].split())\n",
      "    ix, = np.where(cs.isin(colonic_dvt_codes)) # trailing comma in \"ix,\" is weird, used because np.where has strange return format\n",
      "    if len(ix) == 0:\n",
      "        return np.nan  # no dx, should not be in cohort\n",
      "    \n",
      "    ds = date_seq[id].split()\n",
      "    date_of_dx = pd.Timestamp(ds[ix[0]])\n",
      "    year_of_dx = date_of_dx.year\n",
      "    \n",
      "    return df_dict[year_of_dx].loc[id, 'age']\n",
      "\n",
      "age_at_dx(74901)\n",
      "# TODO: test carefully"
     ],
     "language": "python",
     "metadata": {},
     "outputs": [
      {
       "metadata": {},
       "output_type": "pyout",
       "prompt_number": 25,
       "text": [
        "61"
       ]
      }
     ],
     "prompt_number": 25
    },
    {
     "cell_type": "code",
     "collapsed": false,
     "input": [
      "patient_ages = []\n",
      "for id in subjects:\n",
      "    patient_ages.append(age_at_dx(id))"
     ],
     "language": "python",
     "metadata": {},
     "outputs": [],
     "prompt_number": 26
    },
    {
     "cell_type": "code",
     "collapsed": false,
     "input": [
      "np.mean(patient_ages), np.std(patient_ages)"
     ],
     "language": "python",
     "metadata": {},
     "outputs": [
      {
       "metadata": {},
       "output_type": "pyout",
       "prompt_number": 27,
       "text": [
        "(50.778860137115949, 8.1146158632211272)"
       ]
      }
     ],
     "prompt_number": 27
    },
    {
     "cell_type": "code",
     "collapsed": false,
     "input": [
      "def sex_at_dx(id):\n",
      "    cs = pd.Series(code_seq[id].split())\n",
      "    ix, = np.where(cs.isin(colonic_dvt_codes)) # trailing comma in \"ix,\" is weird, used because np.where has strange return format\n",
      "    if len(ix) == 0:\n",
      "        return np.nan  # no dx, should not be in cohort\n",
      "    \n",
      "    ds = date_seq[id].split()\n",
      "    date_of_dx = pd.Timestamp(ds[ix[0]])\n",
      "    year_of_dx = date_of_dx.year\n",
      "    \n",
      "    return df_dict[year_of_dx].loc[id, 'sex']\n",
      "\n",
      "sex_at_dx(74901)\n",
      "# TODO: test carefully"
     ],
     "language": "python",
     "metadata": {},
     "outputs": [
      {
       "metadata": {},
       "output_type": "pyout",
       "prompt_number": 28,
       "text": [
        "2"
       ]
      }
     ],
     "prompt_number": 28
    },
    {
     "cell_type": "code",
     "collapsed": false,
     "input": [
      "%%time\n",
      "\n",
      "patient_sex = []\n",
      "for id in subjects:\n",
      "    patient_sex.append(sex_at_dx(id))"
     ],
     "language": "python",
     "metadata": {},
     "outputs": [
      {
       "output_type": "stream",
       "stream": "stdout",
       "text": [
        "CPU times: user 1min 36s, sys: 4 ms, total: 1min 36s\n",
        "Wall time: 1min 36s\n"
       ]
      }
     ],
     "prompt_number": 29
    },
    {
     "cell_type": "code",
     "collapsed": false,
     "input": [
      "patient_sex = np.array(patient_sex)\n",
      "100*np.mean(patient_sex == 2)  # pct female"
     ],
     "language": "python",
     "metadata": {},
     "outputs": [
      {
       "metadata": {},
       "output_type": "pyout",
       "prompt_number": 30,
       "text": [
        "51.830520994436881"
       ]
      }
     ],
     "prompt_number": 30
    },
    {
     "cell_type": "code",
     "collapsed": false,
     "input": [
      "np.mean(y_days.loc[subjects] < 2*52*7)*100"
     ],
     "language": "python",
     "metadata": {},
     "outputs": [
      {
       "metadata": {},
       "output_type": "pyout",
       "prompt_number": 31,
       "text": [
        "6.1656009787401027"
       ]
      }
     ],
     "prompt_number": 31
    },
    {
     "cell_type": "code",
     "collapsed": false,
     "input": [
      "def at_most_two_episodes(id):\n",
      "    cs = pd.Series(code_seq[id].split())\n",
      "    ix, = np.where(cs.isin(colonic_dvt_codes)) # trailing comma in \"ix,\" is weird, used because np.where has strange return format\n",
      "    if len(ix) <= 2:\n",
      "        return True\n",
      "    \n",
      "    ds = date_seq[id].split()\n",
      "    dates_of_dx = [pd.Timestamp(ds[i]) for i in ix]\n",
      "    \n",
      "    distinct_episodes = 1\n",
      "    last_episode_start = dates_of_dx[0]\n",
      "    for d in dates_of_dx:\n",
      "        if (d - last_episode_start) > pd.Timedelta(weeks=6):\n",
      "            last_episode_start = d\n",
      "            distinct_episodes += 1\n",
      "    return distinct_episodes <= 2\n",
      "\n",
      "at_most_two_episodes(74901)\n",
      "# TODO: test carefully"
     ],
     "language": "python",
     "metadata": {},
     "outputs": [
      {
       "metadata": {},
       "output_type": "pyout",
       "prompt_number": 32,
       "text": [
        "True"
       ]
      }
     ],
     "prompt_number": 32
    },
    {
     "cell_type": "code",
     "collapsed": false,
     "input": [
      "rows = (y_days.loc[subjects] >= 52*7) & (y_days.loc[subjects] < 2*52*7)"
     ],
     "language": "python",
     "metadata": {},
     "outputs": [],
     "prompt_number": 33
    },
    {
     "cell_type": "code",
     "collapsed": false,
     "input": [
      "ix = list(y_days[rows].index)"
     ],
     "language": "python",
     "metadata": {},
     "outputs": [],
     "prompt_number": 34
    },
    {
     "cell_type": "code",
     "collapsed": false,
     "input": [
      "%%time\n",
      "\n",
      "early_surgery = []\n",
      "for id in ix:\n",
      "    early_surgery.append(at_most_two_episodes(id))"
     ],
     "language": "python",
     "metadata": {},
     "outputs": [
      {
       "output_type": "stream",
       "stream": "stdout",
       "text": [
        "CPU times: user 5.14 s, sys: 0 ns, total: 5.14 s\n",
        "Wall time: 5.14 s\n"
       ]
      }
     ],
     "prompt_number": 35
    },
    {
     "cell_type": "code",
     "collapsed": false,
     "input": [
      "len(early_surgery)"
     ],
     "language": "python",
     "metadata": {},
     "outputs": [
      {
       "metadata": {},
       "output_type": "pyout",
       "prompt_number": 36,
       "text": [
        "948"
       ]
      }
     ],
     "prompt_number": 36
    },
    {
     "cell_type": "code",
     "collapsed": false,
     "input": [
      "np.mean(early_surgery)*100"
     ],
     "language": "python",
     "metadata": {},
     "outputs": [
      {
       "metadata": {},
       "output_type": "pyout",
       "prompt_number": 37,
       "text": [
        "9.1772151898734187"
       ]
      }
     ],
     "prompt_number": 37
    },
    {
     "cell_type": "markdown",
     "metadata": {},
     "source": [
      "Investigate this early surgery stuff..."
     ]
    },
    {
     "cell_type": "code",
     "collapsed": false,
     "input": [
      "rows = (y_days.loc[subjects] >= 12*7) & (y_days.loc[subjects] < 52*7)"
     ],
     "language": "python",
     "metadata": {},
     "outputs": [],
     "prompt_number": 38
    },
    {
     "cell_type": "code",
     "collapsed": false,
     "input": [
      "ix = list(y_days[rows].index)"
     ],
     "language": "python",
     "metadata": {},
     "outputs": [],
     "prompt_number": 39
    },
    {
     "cell_type": "code",
     "collapsed": false,
     "input": [
      "%%time\n",
      "\n",
      "early_surgery = []\n",
      "for id in ix:\n",
      "    early_surgery.append(at_most_two_episodes(id))"
     ],
     "language": "python",
     "metadata": {},
     "outputs": [
      {
       "output_type": "stream",
       "stream": "stdout",
       "text": [
        "CPU times: user 9.28 s, sys: 0 ns, total: 9.28 s\n",
        "Wall time: 9.29 s\n"
       ]
      }
     ],
     "prompt_number": 40
    },
    {
     "cell_type": "code",
     "collapsed": false,
     "input": [
      "len(early_surgery), np.mean(early_surgery)*100"
     ],
     "language": "python",
     "metadata": {},
     "outputs": [
      {
       "metadata": {},
       "output_type": "pyout",
       "prompt_number": 41,
       "text": [
        "(1843, 23.98263700488334)"
       ]
      }
     ],
     "prompt_number": 41
    },
    {
     "cell_type": "markdown",
     "metadata": {},
     "source": [
      "Val had a more complicated definition of early surgery, here is an approximation of it:"
     ]
    },
    {
     "cell_type": "code",
     "collapsed": false,
     "input": [
      "def at_most_two_inpatient_episodes(id):\n",
      "    cs = pd.Series(code_seq[id].split())\n",
      "    ix, = np.where(cs.isin(colonic_dvt_codes)) # trailing comma in \"ix,\" is weird, used because np.where has strange return format\n",
      "    if len(ix) <= 2:\n",
      "        return True\n",
      "    \n",
      "    ds = pd.Series(date_seq[id].split())\n",
      "    dates_of_dx = ds.map(pd.Timestamp)\n",
      "    \n",
      "    ins = in_seq[id].split()\n",
      "    \n",
      "    distinct_episodes = 1\n",
      "    last_episode_start = dates_of_dx[ix[0]]\n",
      "    for i in ix:\n",
      "        d = dates_of_dx[i]\n",
      "        if (d - last_episode_start) > pd.Timedelta(weeks=6):\n",
      "            if int(ins[i]) == 1:\n",
      "                # this was an inpatient episode, count it\n",
      "                last_episode_start = d\n",
      "                distinct_episodes += 1\n",
      "                       \n",
      "    return distinct_episodes <= 2\n",
      "\n",
      "at_most_two_inpatient_episodes(278802)\n",
      "# TODO: test carefully"
     ],
     "language": "python",
     "metadata": {},
     "outputs": [
      {
       "metadata": {},
       "output_type": "pyout",
       "prompt_number": 49,
       "text": [
        "True"
       ]
      }
     ],
     "prompt_number": 49
    },
    {
     "cell_type": "code",
     "collapsed": false,
     "input": [
      "rows = (y_days.loc[subjects] >= 52*7) & (y_days.loc[subjects] < 2*52*7)\n",
      "ix = list(y_days[rows].index)\n",
      "early_surgery = []\n",
      "for id in ix:\n",
      "    early_surgery.append(at_most_two_inpatient_episodes(id))\n",
      "len(early_surgery), np.mean(early_surgery)*100"
     ],
     "language": "python",
     "metadata": {},
     "outputs": [
      {
       "metadata": {},
       "output_type": "pyout",
       "prompt_number": 50,
       "text": [
        "(948, 61.392405063291143)"
       ]
      }
     ],
     "prompt_number": 50
    },
    {
     "cell_type": "markdown",
     "metadata": {},
     "source": [
      "Lucas requested an intermediate version (which was originally complex, but then he simplified):\n",
      "\n",
      "    I was thinking about simplifying my request from last week (below). For those patients who undergo surgery, I would like to know what percent have fewer than 3 prior to resection, i.e. inpatient diagnosis OR outpatient diagnosis plus one code for each of the outpatient antibiotics (ciprofloxacin and metronidazole) [attached file] within 7 days of the diagnosis code.\n",
      "    \n",
      "    \n",
      "    Inpatient Antibiotic codes:\n",
      "\n",
      "    J0743, J1335, J2185, J0692, J0698, J0712, J0715, J0696, G9313, J0295, S0040, J2543, S0077, S0030, J0744, J1956, J2280, C9282, G9314, G9315\n"
     ]
    },
    {
     "cell_type": "code",
     "collapsed": false,
     "input": [
      "l1 = pd.read_excel('/homes/abie/projects/2016/TICS/antibiotics.xlsx',\n",
      "                   header=None,\n",
      "                   names=['ndc'],\n",
      "                   sheetname='Ciprofloxacin')\n",
      "l2= pd.read_excel('/homes/abie/projects/2016/TICS/antibiotics.xlsx',\n",
      "                   header=None,\n",
      "                   names=['ndc'],\n",
      "                   sheetname='Metronidazole')\n",
      "s1 = set(['ndc-'+str(x) for x in l1.ndc])\n",
      "s2 = set(['ndc-'+str(x) for x in l2.ndc])"
     ],
     "language": "python",
     "metadata": {},
     "outputs": [],
     "prompt_number": 56
    },
    {
     "cell_type": "code",
     "collapsed": false,
     "input": [
      "def at_most_two_episodes_better(id):\n",
      "    cs = pd.Series(code_seq[id].split())\n",
      "    ix, = np.where(cs.isin(colonic_dvt_codes)) # trailing comma in \"ix,\" is weird, used because np.where has strange return format\n",
      "    if len(ix) <= 2:\n",
      "        return True\n",
      "    \n",
      "    ds = pd.Series(date_seq[id].split())\n",
      "    dates_of_dx = ds.map(pd.Timestamp)\n",
      "    \n",
      "    ins = in_seq[id].split()\n",
      "    \n",
      "    distinct_episodes = 1\n",
      "    last_episode_start = dates_of_dx[ix[0]]\n",
      "    for i in ix:\n",
      "        d = dates_of_dx[i]\n",
      "        if (d - last_episode_start) > pd.Timedelta(weeks=6):\n",
      "            if int(ins[i]) == 1:\n",
      "                # this was an inpatient episode, count it\n",
      "                last_episode_start = d\n",
      "                distinct_episodes += 1\n",
      "            else:\n",
      "                # check if two drug combo appears in next week\n",
      "                next_weeks_ix = np.where((dates_of_dx >= d) & (dates_of_dx <= d + pd.Timedelta(days=7)))\n",
      "                next_weeks_codes = set(cs.iloc[next_weeks_ix])\n",
      "                \n",
      "                if len(next_weeks_codes & s1) > 0:\n",
      "                    if len(next_weeks_codes & s2) > 0:\n",
      "                        # both drugs coded in week after encounter, consider it an episode\n",
      "                        #print next_weeks_codes\n",
      "                        last_episode_start = d\n",
      "                        distinct_episodes += 1\n",
      "                       \n",
      "    return distinct_episodes <= 2\n",
      "\n",
      "at_most_two_episodes_better(278802)\n",
      "# TODO: test carefully"
     ],
     "language": "python",
     "metadata": {},
     "outputs": [
      {
       "metadata": {},
       "output_type": "pyout",
       "prompt_number": 62,
       "text": [
        "True"
       ]
      }
     ],
     "prompt_number": 62
    },
    {
     "cell_type": "code",
     "collapsed": false,
     "input": [
      "rows = (y_days.loc[subjects] >= 52*7) & (y_days.loc[subjects] < 2*52*7)\n",
      "ix = list(y_days[rows].index)\n",
      "early_surgery = []\n",
      "for id in ix:\n",
      "    early_surgery.append(at_most_two_episodes_better(id))\n",
      "len(early_surgery), np.mean(early_surgery)*100"
     ],
     "language": "python",
     "metadata": {},
     "outputs": [
      {
       "metadata": {},
       "output_type": "pyout",
       "prompt_number": 63,
       "text": [
        "(948, 50.42194092827004)"
       ]
      }
     ],
     "prompt_number": 63
    }
   ],
   "metadata": {}
  }
 ]
}
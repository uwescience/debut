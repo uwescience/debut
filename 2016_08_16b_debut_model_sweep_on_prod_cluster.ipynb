{
 "metadata": {
  "kernelspec": {
   "display_name": "Python 3",
   "language": "python",
   "name": "python3"
  },
  "language_info": {
   "codemirror_mode": {
    "name": "ipython",
    "version": 3
   },
   "file_extension": ".py",
   "mimetype": "text/x-python",
   "name": "python",
   "nbconvert_exporter": "python",
   "pygments_lexer": "ipython3",
   "version": "3.4.5"
  },
  "name": "",
  "signature": "sha256:bd442aeeab08fbb6ea5b8072f1a494c9c6a0a9c2c8828bd6598cf81ee5e6784e"
 },
 "nbformat": 3,
 "nbformat_minor": 0,
 "worksheets": [
  {
   "cells": [
    {
     "cell_type": "code",
     "collapsed": false,
     "input": [
      "!date"
     ],
     "language": "python",
     "metadata": {},
     "outputs": [
      {
       "output_type": "stream",
       "stream": "stdout",
       "text": [
        "Tue Aug 16 16:35:22 PDT 2016\r\n"
       ]
      }
     ],
     "prompt_number": 24
    },
    {
     "cell_type": "heading",
     "level": 1,
     "metadata": {},
     "source": [
      "# Launch 10 replicates of model fit on prod cluster"
     ]
    },
    {
     "cell_type": "code",
     "collapsed": false,
     "input": [
      "!hostname"
     ],
     "language": "python",
     "metadata": {},
     "outputs": [
      {
       "output_type": "stream",
       "stream": "stdout",
       "text": [
        "cn403.ihme.washington.edu\r\n"
       ]
      }
     ],
     "prompt_number": 25
    },
    {
     "cell_type": "code",
     "collapsed": false,
     "input": [
      "%cd ~/projects/2016/new_debut/"
     ],
     "language": "python",
     "metadata": {},
     "outputs": [
      {
       "output_type": "stream",
       "stream": "stdout",
       "text": [
        "/snfs2/HOME/abie/projects/2016/new_debut\n"
       ]
      }
     ],
     "prompt_number": 26
    },
    {
     "cell_type": "code",
     "collapsed": false,
     "input": [
      "import time, sys"
     ],
     "language": "python",
     "metadata": {},
     "outputs": [],
     "prompt_number": 36
    },
    {
     "cell_type": "code",
     "collapsed": false,
     "input": [
      "# run full etl on cluster\n",
      "import subprocess\n",
      "\n",
      "for r in range(10):\n",
      "    log = '/ihme/scratch/users/abie/projects/2016/TICS/tics_fit_{:02d}.txt'.format(r)\n",
      "    name_str = 'tics_fit_{:02d}'.format(r)\n",
      "\n",
      "    call_str = 'qsub -pe multi_slot 20 -cwd -o {0} -e {0} '.format(log) \\\n",
      "                + '-N %s ' % name_str \\\n",
      "                + '-P proj_debut ' \\\n",
      "                + 'run_on_cluster.sh auc.py {}'.format(r)\n",
      "    print(call_str)\n",
      "    subprocess.call(call_str, shell=True)\n",
      "    sys.stdout.flush()\n",
      "    time.sleep(5)"
     ],
     "language": "python",
     "metadata": {},
     "outputs": [
      {
       "output_type": "stream",
       "stream": "stdout",
       "text": [
        "qsub -pe multi_slot 20 -cwd -o /ihme/scratch/users/abie/projects/2016/TICS/tics_fit_00.txt -e /ihme/scratch/users/abie/projects/2016/TICS/tics_fit_00.txt -N tics_fit_00 -P proj_debut run_on_cluster.sh auc.py 0\n"
       ]
      },
      {
       "output_type": "stream",
       "stream": "stdout",
       "text": [
        "qsub -pe multi_slot 20 -cwd -o /ihme/scratch/users/abie/projects/2016/TICS/tics_fit_01.txt -e /ihme/scratch/users/abie/projects/2016/TICS/tics_fit_01.txt -N tics_fit_01 -P proj_debut run_on_cluster.sh auc.py 1\n"
       ]
      },
      {
       "output_type": "stream",
       "stream": "stdout",
       "text": [
        "qsub -pe multi_slot 20 -cwd -o /ihme/scratch/users/abie/projects/2016/TICS/tics_fit_02.txt -e /ihme/scratch/users/abie/projects/2016/TICS/tics_fit_02.txt -N tics_fit_02 -P proj_debut run_on_cluster.sh auc.py 2\n"
       ]
      },
      {
       "output_type": "stream",
       "stream": "stdout",
       "text": [
        "qsub -pe multi_slot 20 -cwd -o /ihme/scratch/users/abie/projects/2016/TICS/tics_fit_03.txt -e /ihme/scratch/users/abie/projects/2016/TICS/tics_fit_03.txt -N tics_fit_03 -P proj_debut run_on_cluster.sh auc.py 3\n"
       ]
      }
     ]
    },
    {
     "cell_type": "code",
     "collapsed": false,
     "input": [
      "!qstat"
     ],
     "language": "python",
     "metadata": {},
     "outputs": []
    },
    {
     "cell_type": "code",
     "collapsed": false,
     "input": [
      "%%sh\n",
      "for fname in /ihme/scratch/users/abie/projects/2016/TICS/tics_fit*.txt\n",
      "do\n",
      "  echo $fname\n",
      "  tail -5 $fname\n",
      "  echo\n",
      "  echo\n",
      "done"
     ],
     "language": "python",
     "metadata": {},
     "outputs": []
    },
    {
     "cell_type": "code",
     "collapsed": false,
     "input": [
      "!cluster_usage.sh"
     ],
     "language": "python",
     "metadata": {},
     "outputs": []
    },
    {
     "cell_type": "code",
     "collapsed": true,
     "input": [],
     "language": "python",
     "metadata": {},
     "outputs": [],
     "prompt_number": null
    },
    {
     "cell_type": "code",
     "collapsed": true,
     "input": [],
     "language": "python",
     "metadata": {},
     "outputs": [],
     "prompt_number": null
    },
    {
     "cell_type": "code",
     "collapsed": true,
     "input": [],
     "language": "python",
     "metadata": {},
     "outputs": [],
     "prompt_number": null
    },
    {
     "cell_type": "code",
     "collapsed": true,
     "input": [],
     "language": "python",
     "metadata": {},
     "outputs": [],
     "prompt_number": null
    },
    {
     "cell_type": "code",
     "collapsed": true,
     "input": [],
     "language": "python",
     "metadata": {},
     "outputs": [],
     "prompt_number": null
    },
    {
     "cell_type": "code",
     "collapsed": true,
     "input": [],
     "language": "python",
     "metadata": {},
     "outputs": [],
     "prompt_number": null
    }
   ],
   "metadata": {}
  }
 ]
}
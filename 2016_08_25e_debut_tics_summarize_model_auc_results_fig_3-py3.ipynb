{
 "cells": [
  {
   "cell_type": "code",
   "execution_count": 1,
   "metadata": {
    "collapsed": false
   },
   "outputs": [
    {
     "name": "stdout",
     "output_type": "stream",
     "text": [
      "Thu Aug 25 20:15:27 PDT 2016\r\n"
     ]
    }
   ],
   "source": [
    "!date\n",
    "import numpy as np, pandas as pd, matplotlib.pyplot as plt, seaborn as sns\n",
    "%matplotlib inline\n",
    "sns.set_context('paper')\n",
    "sns.set_style('whitegrid')\n",
    "pd.set_option('max_rows',10)"
   ]
  },
  {
   "cell_type": "code",
   "execution_count": 2,
   "metadata": {
    "collapsed": false
   },
   "outputs": [
    {
     "data": {
      "text/plain": [
       "(5600, 6)"
      ]
     },
     "execution_count": 2,
     "metadata": {},
     "output_type": "execute_result"
    }
   ],
   "source": [
    "df = pd.DataFrame()\n",
    "\n",
    "for i in range(10):\n",
    "    for w in range(-4,49,4):\n",
    "        dname = '/homes/abie/projects/2016/TICS/'\n",
    "        fname = dname + 'auc_results_{:02d}_{:02d}.csv'.format(i,w)\n",
    "        t = pd.read_csv(fname)\n",
    "        df = df.append(t)\n",
    "df.shape"
   ]
  },
  {
   "cell_type": "code",
   "execution_count": 3,
   "metadata": {
    "collapsed": false
   },
   "outputs": [],
   "source": [
    "#df.head()"
   ]
  },
  {
   "cell_type": "code",
   "execution_count": 4,
   "metadata": {
    "collapsed": false
   },
   "outputs": [
    {
     "data": {
      "text/plain": [
       "PLR    1400\n",
       "RF     1400\n",
       "NB     1400\n",
       "GBM    1400\n",
       "Name: clf_name, dtype: int64"
      ]
     },
     "execution_count": 4,
     "metadata": {},
     "output_type": "execute_result"
    }
   ],
   "source": [
    "df.clf_name.value_counts()"
   ]
  },
  {
   "cell_type": "code",
   "execution_count": 5,
   "metadata": {
    "collapsed": false
   },
   "outputs": [
    {
     "data": {
      "text/html": [
       "<div>\n",
       "<table border=\"1\" class=\"dataframe\">\n",
       "  <thead>\n",
       "    <tr style=\"text-align: right;\">\n",
       "      <th>weeks_after</th>\n",
       "      <th>-4</th>\n",
       "      <th>0</th>\n",
       "      <th>4</th>\n",
       "      <th>8</th>\n",
       "      <th>12</th>\n",
       "      <th>16</th>\n",
       "      <th>20</th>\n",
       "      <th>24</th>\n",
       "      <th>28</th>\n",
       "      <th>32</th>\n",
       "      <th>36</th>\n",
       "      <th>40</th>\n",
       "      <th>44</th>\n",
       "      <th>48</th>\n",
       "    </tr>\n",
       "    <tr>\n",
       "      <th>clf_name</th>\n",
       "      <th></th>\n",
       "      <th></th>\n",
       "      <th></th>\n",
       "      <th></th>\n",
       "      <th></th>\n",
       "      <th></th>\n",
       "      <th></th>\n",
       "      <th></th>\n",
       "      <th></th>\n",
       "      <th></th>\n",
       "      <th></th>\n",
       "      <th></th>\n",
       "      <th></th>\n",
       "      <th></th>\n",
       "    </tr>\n",
       "  </thead>\n",
       "  <tbody>\n",
       "    <tr>\n",
       "      <th>GBM</th>\n",
       "      <td>100</td>\n",
       "      <td>100</td>\n",
       "      <td>100</td>\n",
       "      <td>100</td>\n",
       "      <td>100</td>\n",
       "      <td>100</td>\n",
       "      <td>100</td>\n",
       "      <td>100</td>\n",
       "      <td>100</td>\n",
       "      <td>100</td>\n",
       "      <td>100</td>\n",
       "      <td>100</td>\n",
       "      <td>100</td>\n",
       "      <td>100</td>\n",
       "    </tr>\n",
       "    <tr>\n",
       "      <th>NB</th>\n",
       "      <td>100</td>\n",
       "      <td>100</td>\n",
       "      <td>100</td>\n",
       "      <td>100</td>\n",
       "      <td>100</td>\n",
       "      <td>100</td>\n",
       "      <td>100</td>\n",
       "      <td>100</td>\n",
       "      <td>100</td>\n",
       "      <td>100</td>\n",
       "      <td>100</td>\n",
       "      <td>100</td>\n",
       "      <td>100</td>\n",
       "      <td>100</td>\n",
       "    </tr>\n",
       "    <tr>\n",
       "      <th>PLR</th>\n",
       "      <td>100</td>\n",
       "      <td>100</td>\n",
       "      <td>100</td>\n",
       "      <td>100</td>\n",
       "      <td>100</td>\n",
       "      <td>100</td>\n",
       "      <td>100</td>\n",
       "      <td>100</td>\n",
       "      <td>100</td>\n",
       "      <td>100</td>\n",
       "      <td>100</td>\n",
       "      <td>100</td>\n",
       "      <td>100</td>\n",
       "      <td>100</td>\n",
       "    </tr>\n",
       "    <tr>\n",
       "      <th>RF</th>\n",
       "      <td>100</td>\n",
       "      <td>100</td>\n",
       "      <td>100</td>\n",
       "      <td>100</td>\n",
       "      <td>100</td>\n",
       "      <td>100</td>\n",
       "      <td>100</td>\n",
       "      <td>100</td>\n",
       "      <td>100</td>\n",
       "      <td>100</td>\n",
       "      <td>100</td>\n",
       "      <td>100</td>\n",
       "      <td>100</td>\n",
       "      <td>100</td>\n",
       "    </tr>\n",
       "  </tbody>\n",
       "</table>\n",
       "</div>"
      ],
      "text/plain": [
       "weeks_after  -4    0    4    8    12   16   20   24   28   32   36   40   44  \\\n",
       "clf_name                                                                       \n",
       "GBM          100  100  100  100  100  100  100  100  100  100  100  100  100   \n",
       "NB           100  100  100  100  100  100  100  100  100  100  100  100  100   \n",
       "PLR          100  100  100  100  100  100  100  100  100  100  100  100  100   \n",
       "RF           100  100  100  100  100  100  100  100  100  100  100  100  100   \n",
       "\n",
       "weeks_after   48  \n",
       "clf_name          \n",
       "GBM          100  \n",
       "NB           100  \n",
       "PLR          100  \n",
       "RF           100  "
      ]
     },
     "execution_count": 5,
     "metadata": {},
     "output_type": "execute_result"
    }
   ],
   "source": [
    "df.groupby(['clf_name', 'weeks_after']).auc.count().unstack().fillna('')"
   ]
  },
  {
   "cell_type": "code",
   "execution_count": 6,
   "metadata": {
    "collapsed": false
   },
   "outputs": [
    {
     "data": {
      "text/html": [
       "<div>\n",
       "<table border=\"1\" class=\"dataframe\">\n",
       "  <thead>\n",
       "    <tr style=\"text-align: right;\">\n",
       "      <th>weeks_after</th>\n",
       "      <th>-4</th>\n",
       "      <th>0</th>\n",
       "      <th>4</th>\n",
       "      <th>8</th>\n",
       "      <th>12</th>\n",
       "      <th>16</th>\n",
       "      <th>20</th>\n",
       "      <th>24</th>\n",
       "      <th>28</th>\n",
       "      <th>32</th>\n",
       "      <th>36</th>\n",
       "      <th>40</th>\n",
       "      <th>44</th>\n",
       "      <th>48</th>\n",
       "    </tr>\n",
       "    <tr>\n",
       "      <th>clf_name</th>\n",
       "      <th></th>\n",
       "      <th></th>\n",
       "      <th></th>\n",
       "      <th></th>\n",
       "      <th></th>\n",
       "      <th></th>\n",
       "      <th></th>\n",
       "      <th></th>\n",
       "      <th></th>\n",
       "      <th></th>\n",
       "      <th></th>\n",
       "      <th></th>\n",
       "      <th></th>\n",
       "      <th></th>\n",
       "    </tr>\n",
       "  </thead>\n",
       "  <tbody>\n",
       "    <tr>\n",
       "      <th>GBM</th>\n",
       "      <td>50.1</td>\n",
       "      <td>57.5</td>\n",
       "      <td>63.3</td>\n",
       "      <td>64.9</td>\n",
       "      <td>66.2</td>\n",
       "      <td>66.9</td>\n",
       "      <td>68.3</td>\n",
       "      <td>68.9</td>\n",
       "      <td>69.5</td>\n",
       "      <td>70.5</td>\n",
       "      <td>71.5</td>\n",
       "      <td>72.2</td>\n",
       "      <td>73.5</td>\n",
       "      <td>75.8</td>\n",
       "    </tr>\n",
       "    <tr>\n",
       "      <th>NB</th>\n",
       "      <td>50.0</td>\n",
       "      <td>50.0</td>\n",
       "      <td>50.0</td>\n",
       "      <td>50.0</td>\n",
       "      <td>50.0</td>\n",
       "      <td>50.0</td>\n",
       "      <td>50.0</td>\n",
       "      <td>50.0</td>\n",
       "      <td>50.0</td>\n",
       "      <td>50.0</td>\n",
       "      <td>50.0</td>\n",
       "      <td>50.0</td>\n",
       "      <td>50.0</td>\n",
       "      <td>50.0</td>\n",
       "    </tr>\n",
       "    <tr>\n",
       "      <th>PLR</th>\n",
       "      <td>51.1</td>\n",
       "      <td>50.5</td>\n",
       "      <td>51.8</td>\n",
       "      <td>52.3</td>\n",
       "      <td>52.6</td>\n",
       "      <td>52.9</td>\n",
       "      <td>53.1</td>\n",
       "      <td>53.5</td>\n",
       "      <td>53.6</td>\n",
       "      <td>53.6</td>\n",
       "      <td>54.0</td>\n",
       "      <td>54.3</td>\n",
       "      <td>55.4</td>\n",
       "      <td>56.5</td>\n",
       "    </tr>\n",
       "    <tr>\n",
       "      <th>RF</th>\n",
       "      <td>51.4</td>\n",
       "      <td>54.2</td>\n",
       "      <td>57.2</td>\n",
       "      <td>57.5</td>\n",
       "      <td>58.4</td>\n",
       "      <td>59.1</td>\n",
       "      <td>59.8</td>\n",
       "      <td>59.5</td>\n",
       "      <td>60.7</td>\n",
       "      <td>61.1</td>\n",
       "      <td>61.6</td>\n",
       "      <td>62.4</td>\n",
       "      <td>64.0</td>\n",
       "      <td>66.0</td>\n",
       "    </tr>\n",
       "  </tbody>\n",
       "</table>\n",
       "</div>"
      ],
      "text/plain": [
       "weeks_after   -4     0     4     8     12    16    20    24    28    32    36  \\\n",
       "clf_name                                                                        \n",
       "GBM          50.1  57.5  63.3  64.9  66.2  66.9  68.3  68.9  69.5  70.5  71.5   \n",
       "NB           50.0  50.0  50.0  50.0  50.0  50.0  50.0  50.0  50.0  50.0  50.0   \n",
       "PLR          51.1  50.5  51.8  52.3  52.6  52.9  53.1  53.5  53.6  53.6  54.0   \n",
       "RF           51.4  54.2  57.2  57.5  58.4  59.1  59.8  59.5  60.7  61.1  61.6   \n",
       "\n",
       "weeks_after    40    44    48  \n",
       "clf_name                       \n",
       "GBM          72.2  73.5  75.8  \n",
       "NB           50.0  50.0  50.0  \n",
       "PLR          54.3  55.4  56.5  \n",
       "RF           62.4  64.0  66.0  "
      ]
     },
     "execution_count": 6,
     "metadata": {},
     "output_type": "execute_result"
    }
   ],
   "source": [
    "g = df.groupby(['clf_name', 'weeks_after'])\n",
    "t = g.auc.mean()\n",
    "t = np.round(t*100, 1)\n",
    "t.unstack().fillna('')"
   ]
  },
  {
   "cell_type": "code",
   "execution_count": 7,
   "metadata": {
    "collapsed": false
   },
   "outputs": [],
   "source": [
    "# # useful for seeing what reps are not completed\n",
    "# df['rep_str'] = df.rep.astype(str) + ' '\n",
    "# g = df.groupby(['clf_name', 'weeks_after'])\n",
    "# t = g.rep_str.sum()\n",
    "# t.unstack().fillna('')"
   ]
  },
  {
   "cell_type": "code",
   "execution_count": 8,
   "metadata": {
    "collapsed": false
   },
   "outputs": [
    {
     "data": {
      "text/html": [
       "<div>\n",
       "<table border=\"1\" class=\"dataframe\">\n",
       "  <thead>\n",
       "    <tr>\n",
       "      <th>weeks_after</th>\n",
       "      <th colspan=\"3\" halign=\"left\">0</th>\n",
       "      <th colspan=\"3\" halign=\"left\">12</th>\n",
       "      <th colspan=\"3\" halign=\"left\">24</th>\n",
       "      <th colspan=\"3\" halign=\"left\">48</th>\n",
       "    </tr>\n",
       "    <tr>\n",
       "      <th></th>\n",
       "      <th>50%</th>\n",
       "      <th>2.5%</th>\n",
       "      <th>97.5%</th>\n",
       "      <th>50%</th>\n",
       "      <th>2.5%</th>\n",
       "      <th>97.5%</th>\n",
       "      <th>50%</th>\n",
       "      <th>2.5%</th>\n",
       "      <th>97.5%</th>\n",
       "      <th>50%</th>\n",
       "      <th>2.5%</th>\n",
       "      <th>97.5%</th>\n",
       "    </tr>\n",
       "    <tr>\n",
       "      <th>clf_name</th>\n",
       "      <th></th>\n",
       "      <th></th>\n",
       "      <th></th>\n",
       "      <th></th>\n",
       "      <th></th>\n",
       "      <th></th>\n",
       "      <th></th>\n",
       "      <th></th>\n",
       "      <th></th>\n",
       "      <th></th>\n",
       "      <th></th>\n",
       "      <th></th>\n",
       "    </tr>\n",
       "  </thead>\n",
       "  <tbody>\n",
       "    <tr>\n",
       "      <th>GBM</th>\n",
       "      <td>57.3</td>\n",
       "      <td>52.9</td>\n",
       "      <td>62.4</td>\n",
       "      <td>66.2</td>\n",
       "      <td>61.9</td>\n",
       "      <td>70.6</td>\n",
       "      <td>68.8</td>\n",
       "      <td>64.6</td>\n",
       "      <td>74.2</td>\n",
       "      <td>75.7</td>\n",
       "      <td>71.9</td>\n",
       "      <td>80.2</td>\n",
       "    </tr>\n",
       "    <tr>\n",
       "      <th>NB</th>\n",
       "      <td>50.0</td>\n",
       "      <td>50.0</td>\n",
       "      <td>50.0</td>\n",
       "      <td>50.0</td>\n",
       "      <td>50.0</td>\n",
       "      <td>50.0</td>\n",
       "      <td>50.0</td>\n",
       "      <td>50.0</td>\n",
       "      <td>50.0</td>\n",
       "      <td>50.0</td>\n",
       "      <td>50.0</td>\n",
       "      <td>50.0</td>\n",
       "    </tr>\n",
       "    <tr>\n",
       "      <th>PLR</th>\n",
       "      <td>50.9</td>\n",
       "      <td>45.8</td>\n",
       "      <td>54.6</td>\n",
       "      <td>52.6</td>\n",
       "      <td>47.9</td>\n",
       "      <td>58.4</td>\n",
       "      <td>53.5</td>\n",
       "      <td>48.4</td>\n",
       "      <td>59.2</td>\n",
       "      <td>56.3</td>\n",
       "      <td>51.0</td>\n",
       "      <td>61.6</td>\n",
       "    </tr>\n",
       "    <tr>\n",
       "      <th>RF</th>\n",
       "      <td>53.9</td>\n",
       "      <td>49.5</td>\n",
       "      <td>58.7</td>\n",
       "      <td>58.7</td>\n",
       "      <td>52.8</td>\n",
       "      <td>64.1</td>\n",
       "      <td>59.5</td>\n",
       "      <td>53.0</td>\n",
       "      <td>63.9</td>\n",
       "      <td>66.3</td>\n",
       "      <td>59.6</td>\n",
       "      <td>70.8</td>\n",
       "    </tr>\n",
       "  </tbody>\n",
       "</table>\n",
       "</div>"
      ],
      "text/plain": [
       "weeks_after    0                 12                24                48        \\\n",
       "              50%  2.5% 97.5%   50%  2.5% 97.5%   50%  2.5% 97.5%   50%  2.5%   \n",
       "clf_name                                                                        \n",
       "GBM          57.3  52.9  62.4  66.2  61.9  70.6  68.8  64.6  74.2  75.7  71.9   \n",
       "NB           50.0  50.0  50.0  50.0  50.0  50.0  50.0  50.0  50.0  50.0  50.0   \n",
       "PLR          50.9  45.8  54.6  52.6  47.9  58.4  53.5  48.4  59.2  56.3  51.0   \n",
       "RF           53.9  49.5  58.7  58.7  52.8  64.1  59.5  53.0  63.9  66.3  59.6   \n",
       "\n",
       "weeks_after        \n",
       "            97.5%  \n",
       "clf_name           \n",
       "GBM          80.2  \n",
       "NB           50.0  \n",
       "PLR          61.6  \n",
       "RF           70.8  "
      ]
     },
     "execution_count": 8,
     "metadata": {},
     "output_type": "execute_result"
    }
   ],
   "source": [
    "def pct_UI(s):\n",
    "    return np.round(100*s.describe(percentiles=[.025, .975]).loc[['50%', '2.5%', '97.5%']], 1)\n",
    "g = df[df.weeks_after.isin([48, 24, 12, 0])].groupby(['clf_name', 'weeks_after'])\n",
    "summary = g.auc.apply(pct_UI)\n",
    "summary.unstack(level=1).unstack()"
   ]
  },
  {
   "cell_type": "code",
   "execution_count": 9,
   "metadata": {
    "collapsed": false
   },
   "outputs": [],
   "source": [
    "sns.set_style('whitegrid')"
   ]
  },
  {
   "cell_type": "code",
   "execution_count": 10,
   "metadata": {
    "collapsed": false
   },
   "outputs": [],
   "source": [
    "g = df.groupby(['clf_name', 'weeks_after'])\n",
    "summary = g.auc.apply(pct_UI)\n"
   ]
  },
  {
   "cell_type": "code",
   "execution_count": 11,
   "metadata": {
    "collapsed": false
   },
   "outputs": [
    {
     "data": {
      "image/png": "[encoded data removed]",
      "text/plain": [
       "<matplotlib.figure.Figure at 0x2ba34eb67b70>"
      ]
     },
     "metadata": {},
     "output_type": "display_data"
    }
   ],
   "source": [
    "#t = summary.unstack().loc['GBM']\n",
    "def my_plot(name):\n",
    "    t = summary.unstack().loc[name]\n",
    "    plt.plot(t.index, t['50%'], 'o-', label=name)\n",
    "    plt.fill_between(t.index, t['2.5%'], t['97.5%'], color='grey', alpha=.25)\n",
    "    plt.xlabel('Post-Dx Time Used in Prediction (Weeks)')\n",
    "    plt.ylabel('AUC (%) ', rotation=0, ha='right')\n",
    "    plt.subplots_adjust(left=.2)\n",
    "\n",
    "plt.figure(figsize=(7.5, 4))\n",
    "my_plot('GBM')\n",
    "my_plot('RF')\n",
    "my_plot('PLR')\n",
    "my_plot('NB')\n",
    "plt.legend(loc=\"lower right\")\n",
    "plt.axis(xmin=-6, ymin=45)\n",
    "plt.savefig('/homes/abie/projects/2016/new_debut/auc.png', dpi=300)"
   ]
  },
  {
   "cell_type": "code",
   "execution_count": null,
   "metadata": {
    "collapsed": false
   },
   "outputs": [],
   "source": []
  },
  {
   "cell_type": "code",
   "execution_count": null,
   "metadata": {
    "collapsed": false
   },
   "outputs": [],
   "source": []
  }
 ],
 "metadata": {
  "kernelspec": {
   "display_name": "Python 3",
   "language": "python",
   "name": "python3"
  },
  "language_info": {
   "codemirror_mode": {
    "name": "ipython",
    "version": 3
   },
   "file_extension": ".py",
   "mimetype": "text/x-python",
   "name": "python",
   "nbconvert_exporter": "python",
   "pygments_lexer": "ipython3",
   "version": "3.4.5"
  }
 },
 "nbformat": 4,
 "nbformat_minor": 0
}

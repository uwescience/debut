{
 "cells": [
  {
   "cell_type": "code",
   "execution_count": 16,
   "metadata": {
    "collapsed": false
   },
   "outputs": [
    {
     "name": "stdout",
     "output_type": "stream",
     "text": [
      "Thu Aug 25 21:46:17 PDT 2016\r\n"
     ]
    }
   ],
   "source": [
    "!date\n",
    "import numpy as np, pandas as pd, matplotlib.pyplot as plt, seaborn as sns\n",
    "%matplotlib inline\n",
    "sns.set_context('paper')\n",
    "sns.set_style('whitegrid')\n",
    "pd.set_option('max_rows',10)"
   ]
  },
  {
   "cell_type": "code",
   "execution_count": 17,
   "metadata": {
    "collapsed": false
   },
   "outputs": [
    {
     "name": "stdout",
     "output_type": "stream",
     "text": [
      "/snfs2/HOME/abie/projects/2016/new_debut\n"
     ]
    }
   ],
   "source": [
    "%cd ~/projects/2016/new_debut\n",
    "import data, model"
   ]
  },
  {
   "cell_type": "code",
   "execution_count": 18,
   "metadata": {
    "collapsed": true
   },
   "outputs": [],
   "source": [
    "rep = 0\n",
    "weeks_after = 12\n",
    "surgery_week_start = 16\n",
    "surgery_week_end = 52"
   ]
  },
  {
   "cell_type": "code",
   "execution_count": 19,
   "metadata": {
    "collapsed": false
   },
   "outputs": [
    {
     "name": "stdout",
     "output_type": "stream",
     "text": [
      "CPU times: user 1min 14s, sys: 1.8 s, total: 1min 16s\n",
      "Wall time: 1min 16s\n"
     ]
    }
   ],
   "source": [
    "%%time\n",
    "\n",
    "patient_df, X, y = data.load_prepped_df(weeks_after, surgery_week_start, surgery_week_end)"
   ]
  },
  {
   "cell_type": "code",
   "execution_count": 20,
   "metadata": {
    "collapsed": true
   },
   "outputs": [],
   "source": [
    "# set random seed for reproducibility\n",
    "np.random.seed(12345+rep)"
   ]
  },
  {
   "cell_type": "code",
   "execution_count": 21,
   "metadata": {
    "collapsed": true
   },
   "outputs": [],
   "source": [
    "import sklearn.naive_bayes, sklearn.ensemble, sklearn.linear_model, sklearn.model_selection"
   ]
  },
  {
   "cell_type": "code",
   "execution_count": null,
   "metadata": {
    "collapsed": true
   },
   "outputs": [],
   "source": [
    "# create dict of ML methods to consider\n",
    "n_jobs = 10  # make sure to request corresponding resource level on cluster\n",
    "clf_dict = {'GBM': sklearn.model_selection.GridSearchCV(sklearn.ensemble.GradientBoostingClassifier(),\n",
    "                                                        param_grid={'max_depth':[1,3,5,7,9,11]}, n_jobs=n_jobs),\n",
    "#             'NB': sklearn.model_selection.GridSearchCV(sklearn.naive_bayes.BernoulliNB(),\n",
    "#                                                        param_grid={'alpha':[0, .01, .1, 1., 10., 100.]}, n_jobs=n_jobs),\n",
    "#             'PLR': sklearn.linear_model.LogisticRegressionCV(n_jobs=n_jobs, class_weight='balanced'),\n",
    "#             'RF': sklearn.ensemble.RandomForestClassifier(n_estimators=100, n_jobs=n_jobs, class_weight='balanced'),\n",
    "           }"
   ]
  },
  {
   "cell_type": "code",
   "execution_count": null,
   "metadata": {
    "collapsed": false
   },
   "outputs": [
    {
     "name": "stdout",
     "output_type": "stream",
     "text": [
      "GBM\n"
     ]
    }
   ],
   "source": [
    "%%time\n",
    "\n",
    "# run models and save results\n",
    "results = {}\n",
    "for clf_name, clf in clf_dict.items():\n",
    "    print(clf_name, flush=True)\n",
    "\n",
    "    cv = sklearn.model_selection.KFold(n_splits=10, shuffle=True, random_state=12345+rep)\n",
    "    fold=0\n",
    "    train, test = cv.split(X, y).__next__()\n",
    "        \n",
    "    # fit on training data\n",
    "    clf.fit(X[train], y[train])\n",
    "\n",
    "    # predict on testing data\n",
    "    ypred_pr = clf.predict_proba(X[test])\n",
    "\n",
    "    results[clf_name] = {'obs':y[test], 'pred':ypred_pr}\n"
   ]
  },
  {
   "cell_type": "code",
   "execution_count": null,
   "metadata": {
    "collapsed": true
   },
   "outputs": [],
   "source": [
    "import sklearn.metrics"
   ]
  },
  {
   "cell_type": "code",
   "execution_count": null,
   "metadata": {
    "collapsed": false
   },
   "outputs": [],
   "source": [
    "auc = sklearn.metrics.roc_auc_score(y[test], ypred_pr[:,-1])\n",
    "print(auc)"
   ]
  },
  {
   "cell_type": "code",
   "execution_count": null,
   "metadata": {
    "collapsed": true
   },
   "outputs": [],
   "source": [
    "results_df = pd.DataFrame()"
   ]
  },
  {
   "cell_type": "code",
   "execution_count": null,
   "metadata": {
    "collapsed": false
   },
   "outputs": [],
   "source": [
    "for weeks_after in range(0,49,4):\n",
    "    for surgery_week_start in range(weeks_after+4, 53, 12):\n",
    "        for surgery_week_end in range(surgery_week_start+52, 104, 12):\n",
    "            patient_df, X, y = data.load_prepped_df(weeks_after, surgery_week_start, surgery_week_end)\n",
    "            t = model.auc_est(clf, X, y, reps=[0], folds=[0])\n",
    "            t['week_after'] = weeks_after\n",
    "            t['surgery_week_start'] = surgery_week_start\n",
    "            t['surgery_week_end'] = surgery_week_end\n",
    "            \n",
    "            results_df = results_df.append(t)\n",
    "            results_df.to_csv('/share/scratch/users/abie/projects/2016/TICS/auc_sweep.csv')\n",
    "            print(t)"
   ]
  },
  {
   "cell_type": "code",
   "execution_count": 33,
   "metadata": {
    "collapsed": false
   },
   "outputs": [
    {
     "data": {
      "text/html": [
       "<div>\n",
       "<table border=\"1\" class=\"dataframe\">\n",
       "  <thead>\n",
       "    <tr style=\"text-align: right;\">\n",
       "      <th></th>\n",
       "      <th>rep</th>\n",
       "      <th>fold</th>\n",
       "      <th>clf</th>\n",
       "      <th>auc</th>\n",
       "      <th>week_after</th>\n",
       "      <th>surgery_week_start</th>\n",
       "      <th>surgery_week_end</th>\n",
       "    </tr>\n",
       "  </thead>\n",
       "  <tbody>\n",
       "    <tr>\n",
       "      <th>0</th>\n",
       "      <td>0</td>\n",
       "      <td>0</td>\n",
       "      <td>GridSearchCV(cv=None, error_score='raise',\\n  ...</td>\n",
       "      <td>0.49865</td>\n",
       "      <td>-4</td>\n",
       "      <td>12</td>\n",
       "      <td>88</td>\n",
       "    </tr>\n",
       "  </tbody>\n",
       "</table>\n",
       "</div>"
      ],
      "text/plain": [
       "   rep  fold                                                clf      auc  \\\n",
       "0    0     0  GridSearchCV(cv=None, error_score='raise',\\n  ...  0.49865   \n",
       "\n",
       "   week_after  surgery_week_start  surgery_week_end  \n",
       "0          -4                  12                88  "
      ]
     },
     "execution_count": 33,
     "metadata": {},
     "output_type": "execute_result"
    }
   ],
   "source": [
    "t"
   ]
  },
  {
   "cell_type": "code",
   "execution_count": 34,
   "metadata": {
    "collapsed": false
   },
   "outputs": [
    {
     "data": {
      "text/html": [
       "<div>\n",
       "<table border=\"1\" class=\"dataframe\">\n",
       "  <thead>\n",
       "    <tr style=\"text-align: right;\">\n",
       "      <th></th>\n",
       "      <th>rep</th>\n",
       "      <th>fold</th>\n",
       "      <th>clf</th>\n",
       "      <th>auc</th>\n",
       "      <th>week_after</th>\n",
       "      <th>surgery_week_start</th>\n",
       "      <th>surgery_week_end</th>\n",
       "    </tr>\n",
       "  </thead>\n",
       "  <tbody>\n",
       "    <tr>\n",
       "      <th>0</th>\n",
       "      <td>0</td>\n",
       "      <td>0</td>\n",
       "      <td>GridSearchCV(cv=None, error_score='raise',\\n  ...</td>\n",
       "      <td>0.572605</td>\n",
       "      <td>-4</td>\n",
       "      <td>0</td>\n",
       "      <td>52</td>\n",
       "    </tr>\n",
       "    <tr>\n",
       "      <th>0</th>\n",
       "      <td>0</td>\n",
       "      <td>0</td>\n",
       "      <td>GridSearchCV(cv=None, error_score='raise',\\n  ...</td>\n",
       "      <td>0.567529</td>\n",
       "      <td>-4</td>\n",
       "      <td>0</td>\n",
       "      <td>56</td>\n",
       "    </tr>\n",
       "    <tr>\n",
       "      <th>0</th>\n",
       "      <td>0</td>\n",
       "      <td>0</td>\n",
       "      <td>GridSearchCV(cv=None, error_score='raise',\\n  ...</td>\n",
       "      <td>0.571065</td>\n",
       "      <td>-4</td>\n",
       "      <td>0</td>\n",
       "      <td>60</td>\n",
       "    </tr>\n",
       "    <tr>\n",
       "      <th>0</th>\n",
       "      <td>0</td>\n",
       "      <td>0</td>\n",
       "      <td>GridSearchCV(cv=None, error_score='raise',\\n  ...</td>\n",
       "      <td>0.568141</td>\n",
       "      <td>-4</td>\n",
       "      <td>0</td>\n",
       "      <td>64</td>\n",
       "    </tr>\n",
       "    <tr>\n",
       "      <th>0</th>\n",
       "      <td>0</td>\n",
       "      <td>0</td>\n",
       "      <td>GridSearchCV(cv=None, error_score='raise',\\n  ...</td>\n",
       "      <td>0.578847</td>\n",
       "      <td>-4</td>\n",
       "      <td>0</td>\n",
       "      <td>68</td>\n",
       "    </tr>\n",
       "    <tr>\n",
       "      <th>...</th>\n",
       "      <td>...</td>\n",
       "      <td>...</td>\n",
       "      <td>...</td>\n",
       "      <td>...</td>\n",
       "      <td>...</td>\n",
       "      <td>...</td>\n",
       "      <td>...</td>\n",
       "    </tr>\n",
       "    <tr>\n",
       "      <th>0</th>\n",
       "      <td>0</td>\n",
       "      <td>0</td>\n",
       "      <td>GridSearchCV(cv=None, error_score='raise',\\n  ...</td>\n",
       "      <td>0.498655</td>\n",
       "      <td>-4</td>\n",
       "      <td>12</td>\n",
       "      <td>72</td>\n",
       "    </tr>\n",
       "    <tr>\n",
       "      <th>0</th>\n",
       "      <td>0</td>\n",
       "      <td>0</td>\n",
       "      <td>GridSearchCV(cv=None, error_score='raise',\\n  ...</td>\n",
       "      <td>0.532897</td>\n",
       "      <td>-4</td>\n",
       "      <td>12</td>\n",
       "      <td>76</td>\n",
       "    </tr>\n",
       "    <tr>\n",
       "      <th>0</th>\n",
       "      <td>0</td>\n",
       "      <td>0</td>\n",
       "      <td>GridSearchCV(cv=None, error_score='raise',\\n  ...</td>\n",
       "      <td>0.534878</td>\n",
       "      <td>-4</td>\n",
       "      <td>12</td>\n",
       "      <td>80</td>\n",
       "    </tr>\n",
       "    <tr>\n",
       "      <th>0</th>\n",
       "      <td>0</td>\n",
       "      <td>0</td>\n",
       "      <td>GridSearchCV(cv=None, error_score='raise',\\n  ...</td>\n",
       "      <td>0.532911</td>\n",
       "      <td>-4</td>\n",
       "      <td>12</td>\n",
       "      <td>84</td>\n",
       "    </tr>\n",
       "    <tr>\n",
       "      <th>0</th>\n",
       "      <td>0</td>\n",
       "      <td>0</td>\n",
       "      <td>GridSearchCV(cv=None, error_score='raise',\\n  ...</td>\n",
       "      <td>0.498650</td>\n",
       "      <td>-4</td>\n",
       "      <td>12</td>\n",
       "      <td>88</td>\n",
       "    </tr>\n",
       "  </tbody>\n",
       "</table>\n",
       "<p>43 rows × 7 columns</p>\n",
       "</div>"
      ],
      "text/plain": [
       "    rep  fold                                                clf       auc  \\\n",
       "0     0     0  GridSearchCV(cv=None, error_score='raise',\\n  ...  0.572605   \n",
       "0     0     0  GridSearchCV(cv=None, error_score='raise',\\n  ...  0.567529   \n",
       "0     0     0  GridSearchCV(cv=None, error_score='raise',\\n  ...  0.571065   \n",
       "0     0     0  GridSearchCV(cv=None, error_score='raise',\\n  ...  0.568141   \n",
       "0     0     0  GridSearchCV(cv=None, error_score='raise',\\n  ...  0.578847   \n",
       "..  ...   ...                                                ...       ...   \n",
       "0     0     0  GridSearchCV(cv=None, error_score='raise',\\n  ...  0.498655   \n",
       "0     0     0  GridSearchCV(cv=None, error_score='raise',\\n  ...  0.532897   \n",
       "0     0     0  GridSearchCV(cv=None, error_score='raise',\\n  ...  0.534878   \n",
       "0     0     0  GridSearchCV(cv=None, error_score='raise',\\n  ...  0.532911   \n",
       "0     0     0  GridSearchCV(cv=None, error_score='raise',\\n  ...  0.498650   \n",
       "\n",
       "    week_after  surgery_week_start  surgery_week_end  \n",
       "0           -4                   0                52  \n",
       "0           -4                   0                56  \n",
       "0           -4                   0                60  \n",
       "0           -4                   0                64  \n",
       "0           -4                   0                68  \n",
       "..         ...                 ...               ...  \n",
       "0           -4                  12                72  \n",
       "0           -4                  12                76  \n",
       "0           -4                  12                80  \n",
       "0           -4                  12                84  \n",
       "0           -4                  12                88  \n",
       "\n",
       "[43 rows x 7 columns]"
      ]
     },
     "execution_count": 34,
     "metadata": {},
     "output_type": "execute_result"
    }
   ],
   "source": [
    "results_df"
   ]
  },
  {
   "cell_type": "code",
   "execution_count": 48,
   "metadata": {
    "collapsed": false
   },
   "outputs": [
    {
     "data": {
      "text/plain": [
       "count    103.000000\n",
       "mean       0.647259\n",
       "std        0.084500\n",
       "min        0.498650\n",
       "25%        0.573194\n",
       "50%        0.644367\n",
       "75%        0.729487\n",
       "max        0.792798\n",
       "Name: auc, dtype: float64"
      ]
     },
     "execution_count": 48,
     "metadata": {},
     "output_type": "execute_result"
    }
   ],
   "source": [
    "results_df.auc.describe()"
   ]
  },
  {
   "cell_type": "code",
   "execution_count": 55,
   "metadata": {
    "collapsed": false
   },
   "outputs": [
    {
     "data": {
      "text/html": [
       "<div>\n",
       "<table border=\"1\" class=\"dataframe\">\n",
       "  <thead>\n",
       "    <tr style=\"text-align: right;\">\n",
       "      <th>surgery_week_end</th>\n",
       "      <th>52</th>\n",
       "      <th>56</th>\n",
       "      <th>60</th>\n",
       "      <th>64</th>\n",
       "      <th>68</th>\n",
       "      <th>72</th>\n",
       "      <th>76</th>\n",
       "      <th>80</th>\n",
       "      <th>84</th>\n",
       "      <th>88</th>\n",
       "      <th>92</th>\n",
       "      <th>96</th>\n",
       "      <th>100</th>\n",
       "    </tr>\n",
       "    <tr>\n",
       "      <th>surgery_week_start</th>\n",
       "      <th></th>\n",
       "      <th></th>\n",
       "      <th></th>\n",
       "      <th></th>\n",
       "      <th></th>\n",
       "      <th></th>\n",
       "      <th></th>\n",
       "      <th></th>\n",
       "      <th></th>\n",
       "      <th></th>\n",
       "      <th></th>\n",
       "      <th></th>\n",
       "      <th></th>\n",
       "    </tr>\n",
       "  </thead>\n",
       "  <tbody>\n",
       "    <tr>\n",
       "      <th>0</th>\n",
       "      <td>0.572605</td>\n",
       "      <td>0.567529</td>\n",
       "      <td>0.571065</td>\n",
       "      <td>0.568141</td>\n",
       "      <td>0.578847</td>\n",
       "      <td>0.584335</td>\n",
       "      <td>0.586134</td>\n",
       "      <td>0.582497</td>\n",
       "      <td>0.582941</td>\n",
       "      <td>0.579166</td>\n",
       "      <td>0.579576</td>\n",
       "      <td>0.578924</td>\n",
       "      <td>0.577101</td>\n",
       "    </tr>\n",
       "    <tr>\n",
       "      <th>4</th>\n",
       "      <td></td>\n",
       "      <td>0.695454</td>\n",
       "      <td>0.573626</td>\n",
       "      <td>0.572761</td>\n",
       "      <td>0.693007</td>\n",
       "      <td>0.57183</td>\n",
       "      <td>0.567848</td>\n",
       "      <td>0.699281</td>\n",
       "      <td>0.566475</td>\n",
       "      <td>0.586146</td>\n",
       "      <td>0.685284</td>\n",
       "      <td>0.581411</td>\n",
       "      <td>0.579921</td>\n",
       "    </tr>\n",
       "    <tr>\n",
       "      <th>8</th>\n",
       "      <td></td>\n",
       "      <td></td>\n",
       "      <td>0.774432</td>\n",
       "      <td>0.547873</td>\n",
       "      <td>0.545962</td>\n",
       "      <td>0.768725</td>\n",
       "      <td>0.547626</td>\n",
       "      <td>0.549081</td>\n",
       "      <td>0.772231</td>\n",
       "      <td>0.546458</td>\n",
       "      <td>0.559588</td>\n",
       "      <td>0.765508</td>\n",
       "      <td>0.549219</td>\n",
       "    </tr>\n",
       "    <tr>\n",
       "      <th>12</th>\n",
       "      <td></td>\n",
       "      <td></td>\n",
       "      <td></td>\n",
       "      <td>0.76662</td>\n",
       "      <td>0.500029</td>\n",
       "      <td>0.498655</td>\n",
       "      <td>0.760868</td>\n",
       "      <td>0.534878</td>\n",
       "      <td>0.532911</td>\n",
       "      <td>0.749679</td>\n",
       "      <td></td>\n",
       "      <td></td>\n",
       "      <td>0.748975</td>\n",
       "    </tr>\n",
       "    <tr>\n",
       "      <th>16</th>\n",
       "      <td></td>\n",
       "      <td></td>\n",
       "      <td></td>\n",
       "      <td></td>\n",
       "      <td>0.773806</td>\n",
       "      <td></td>\n",
       "      <td></td>\n",
       "      <td>0.753989</td>\n",
       "      <td></td>\n",
       "      <td></td>\n",
       "      <td>0.756194</td>\n",
       "      <td></td>\n",
       "      <td></td>\n",
       "    </tr>\n",
       "    <tr>\n",
       "      <th>20</th>\n",
       "      <td></td>\n",
       "      <td></td>\n",
       "      <td></td>\n",
       "      <td></td>\n",
       "      <td></td>\n",
       "      <td>0.731537</td>\n",
       "      <td></td>\n",
       "      <td></td>\n",
       "      <td>0.729832</td>\n",
       "      <td></td>\n",
       "      <td></td>\n",
       "      <td>0.720519</td>\n",
       "      <td></td>\n",
       "    </tr>\n",
       "    <tr>\n",
       "      <th>24</th>\n",
       "      <td></td>\n",
       "      <td></td>\n",
       "      <td></td>\n",
       "      <td></td>\n",
       "      <td></td>\n",
       "      <td></td>\n",
       "      <td>0.792798</td>\n",
       "      <td></td>\n",
       "      <td></td>\n",
       "      <td>0.764061</td>\n",
       "      <td></td>\n",
       "      <td></td>\n",
       "      <td>0.764009</td>\n",
       "    </tr>\n",
       "    <tr>\n",
       "      <th>28</th>\n",
       "      <td></td>\n",
       "      <td></td>\n",
       "      <td></td>\n",
       "      <td></td>\n",
       "      <td></td>\n",
       "      <td></td>\n",
       "      <td></td>\n",
       "      <td>0.766535</td>\n",
       "      <td></td>\n",
       "      <td></td>\n",
       "      <td>0.758164</td>\n",
       "      <td></td>\n",
       "      <td></td>\n",
       "    </tr>\n",
       "    <tr>\n",
       "      <th>32</th>\n",
       "      <td></td>\n",
       "      <td></td>\n",
       "      <td></td>\n",
       "      <td></td>\n",
       "      <td></td>\n",
       "      <td></td>\n",
       "      <td></td>\n",
       "      <td></td>\n",
       "      <td>0.749595</td>\n",
       "      <td></td>\n",
       "      <td></td>\n",
       "      <td>0.745783</td>\n",
       "      <td></td>\n",
       "    </tr>\n",
       "    <tr>\n",
       "      <th>36</th>\n",
       "      <td></td>\n",
       "      <td></td>\n",
       "      <td></td>\n",
       "      <td></td>\n",
       "      <td></td>\n",
       "      <td></td>\n",
       "      <td></td>\n",
       "      <td></td>\n",
       "      <td></td>\n",
       "      <td>0.729599</td>\n",
       "      <td></td>\n",
       "      <td></td>\n",
       "      <td>0.73809</td>\n",
       "    </tr>\n",
       "  </tbody>\n",
       "</table>\n",
       "</div>"
      ],
      "text/plain": [
       "surgery_week_end         52        56        60        64        68   \\\n",
       "surgery_week_start                                                     \n",
       "0                   0.572605  0.567529  0.571065  0.568141  0.578847   \n",
       "4                             0.695454  0.573626  0.572761  0.693007   \n",
       "8                                       0.774432  0.547873  0.545962   \n",
       "12                                                 0.76662  0.500029   \n",
       "16                                                          0.773806   \n",
       "20                                                                     \n",
       "24                                                                     \n",
       "28                                                                     \n",
       "32                                                                     \n",
       "36                                                                     \n",
       "\n",
       "surgery_week_end         72        76        80        84        88   \\\n",
       "surgery_week_start                                                     \n",
       "0                   0.584335  0.586134  0.582497  0.582941  0.579166   \n",
       "4                    0.57183  0.567848  0.699281  0.566475  0.586146   \n",
       "8                   0.768725  0.547626  0.549081  0.772231  0.546458   \n",
       "12                  0.498655  0.760868  0.534878  0.532911  0.749679   \n",
       "16                                      0.753989                       \n",
       "20                  0.731537                      0.729832             \n",
       "24                            0.792798                      0.764061   \n",
       "28                                      0.766535                       \n",
       "32                                                0.749595             \n",
       "36                                                          0.729599   \n",
       "\n",
       "surgery_week_end         92        96        100  \n",
       "surgery_week_start                                \n",
       "0                   0.579576  0.578924  0.577101  \n",
       "4                   0.685284  0.581411  0.579921  \n",
       "8                   0.559588  0.765508  0.549219  \n",
       "12                                      0.748975  \n",
       "16                  0.756194                      \n",
       "20                            0.720519            \n",
       "24                                      0.764009  \n",
       "28                  0.758164                      \n",
       "32                            0.745783            \n",
       "36                                       0.73809  "
      ]
     },
     "execution_count": 55,
     "metadata": {},
     "output_type": "execute_result"
    }
   ],
   "source": [
    "results_df.groupby(['surgery_week_start', 'surgery_week_end']).auc.last().unstack().head(10).fillna('')"
   ]
  },
  {
   "cell_type": "code",
   "execution_count": 51,
   "metadata": {
    "collapsed": false
   },
   "outputs": [
    {
     "data": {
      "text/html": [
       "<div>\n",
       "<table border=\"1\" class=\"dataframe\">\n",
       "  <thead>\n",
       "    <tr style=\"text-align: right;\">\n",
       "      <th></th>\n",
       "      <th>rep</th>\n",
       "      <th>fold</th>\n",
       "      <th>clf</th>\n",
       "      <th>auc</th>\n",
       "      <th>week_after</th>\n",
       "      <th>surgery_week_start</th>\n",
       "      <th>surgery_week_end</th>\n",
       "    </tr>\n",
       "  </thead>\n",
       "  <tbody>\n",
       "    <tr>\n",
       "      <th>0</th>\n",
       "      <td>0</td>\n",
       "      <td>0</td>\n",
       "      <td>GridSearchCV(cv=None, error_score='raise',\\n  ...</td>\n",
       "      <td>0.764009</td>\n",
       "      <td>20</td>\n",
       "      <td>24</td>\n",
       "      <td>100</td>\n",
       "    </tr>\n",
       "    <tr>\n",
       "      <th>0</th>\n",
       "      <td>0</td>\n",
       "      <td>0</td>\n",
       "      <td>GridSearchCV(cv=None, error_score='raise',\\n  ...</td>\n",
       "      <td>0.764061</td>\n",
       "      <td>20</td>\n",
       "      <td>24</td>\n",
       "      <td>88</td>\n",
       "    </tr>\n",
       "    <tr>\n",
       "      <th>0</th>\n",
       "      <td>0</td>\n",
       "      <td>0</td>\n",
       "      <td>GridSearchCV(cv=None, error_score='raise',\\n  ...</td>\n",
       "      <td>0.765508</td>\n",
       "      <td>4</td>\n",
       "      <td>8</td>\n",
       "      <td>96</td>\n",
       "    </tr>\n",
       "    <tr>\n",
       "      <th>0</th>\n",
       "      <td>0</td>\n",
       "      <td>0</td>\n",
       "      <td>GridSearchCV(cv=None, error_score='raise',\\n  ...</td>\n",
       "      <td>0.766535</td>\n",
       "      <td>24</td>\n",
       "      <td>28</td>\n",
       "      <td>80</td>\n",
       "    </tr>\n",
       "    <tr>\n",
       "      <th>0</th>\n",
       "      <td>0</td>\n",
       "      <td>0</td>\n",
       "      <td>GridSearchCV(cv=None, error_score='raise',\\n  ...</td>\n",
       "      <td>0.766620</td>\n",
       "      <td>8</td>\n",
       "      <td>12</td>\n",
       "      <td>64</td>\n",
       "    </tr>\n",
       "    <tr>\n",
       "      <th>0</th>\n",
       "      <td>0</td>\n",
       "      <td>0</td>\n",
       "      <td>GridSearchCV(cv=None, error_score='raise',\\n  ...</td>\n",
       "      <td>0.768725</td>\n",
       "      <td>4</td>\n",
       "      <td>8</td>\n",
       "      <td>72</td>\n",
       "    </tr>\n",
       "    <tr>\n",
       "      <th>0</th>\n",
       "      <td>0</td>\n",
       "      <td>0</td>\n",
       "      <td>GridSearchCV(cv=None, error_score='raise',\\n  ...</td>\n",
       "      <td>0.772231</td>\n",
       "      <td>4</td>\n",
       "      <td>8</td>\n",
       "      <td>84</td>\n",
       "    </tr>\n",
       "    <tr>\n",
       "      <th>0</th>\n",
       "      <td>0</td>\n",
       "      <td>0</td>\n",
       "      <td>GridSearchCV(cv=None, error_score='raise',\\n  ...</td>\n",
       "      <td>0.773806</td>\n",
       "      <td>12</td>\n",
       "      <td>16</td>\n",
       "      <td>68</td>\n",
       "    </tr>\n",
       "    <tr>\n",
       "      <th>0</th>\n",
       "      <td>0</td>\n",
       "      <td>0</td>\n",
       "      <td>GridSearchCV(cv=None, error_score='raise',\\n  ...</td>\n",
       "      <td>0.774432</td>\n",
       "      <td>4</td>\n",
       "      <td>8</td>\n",
       "      <td>60</td>\n",
       "    </tr>\n",
       "    <tr>\n",
       "      <th>0</th>\n",
       "      <td>0</td>\n",
       "      <td>0</td>\n",
       "      <td>GridSearchCV(cv=None, error_score='raise',\\n  ...</td>\n",
       "      <td>0.792798</td>\n",
       "      <td>20</td>\n",
       "      <td>24</td>\n",
       "      <td>76</td>\n",
       "    </tr>\n",
       "  </tbody>\n",
       "</table>\n",
       "</div>"
      ],
      "text/plain": [
       "   rep  fold                                                clf       auc  \\\n",
       "0    0     0  GridSearchCV(cv=None, error_score='raise',\\n  ...  0.764009   \n",
       "0    0     0  GridSearchCV(cv=None, error_score='raise',\\n  ...  0.764061   \n",
       "0    0     0  GridSearchCV(cv=None, error_score='raise',\\n  ...  0.765508   \n",
       "0    0     0  GridSearchCV(cv=None, error_score='raise',\\n  ...  0.766535   \n",
       "0    0     0  GridSearchCV(cv=None, error_score='raise',\\n  ...  0.766620   \n",
       "0    0     0  GridSearchCV(cv=None, error_score='raise',\\n  ...  0.768725   \n",
       "0    0     0  GridSearchCV(cv=None, error_score='raise',\\n  ...  0.772231   \n",
       "0    0     0  GridSearchCV(cv=None, error_score='raise',\\n  ...  0.773806   \n",
       "0    0     0  GridSearchCV(cv=None, error_score='raise',\\n  ...  0.774432   \n",
       "0    0     0  GridSearchCV(cv=None, error_score='raise',\\n  ...  0.792798   \n",
       "\n",
       "   week_after  surgery_week_start  surgery_week_end  \n",
       "0          20                  24               100  \n",
       "0          20                  24                88  \n",
       "0           4                   8                96  \n",
       "0          24                  28                80  \n",
       "0           8                  12                64  \n",
       "0           4                   8                72  \n",
       "0           4                   8                84  \n",
       "0          12                  16                68  \n",
       "0           4                   8                60  \n",
       "0          20                  24                76  "
      ]
     },
     "execution_count": 51,
     "metadata": {},
     "output_type": "execute_result"
    }
   ],
   "source": [
    "results_df.sort_values('auc').tail(10)"
   ]
  },
  {
   "cell_type": "code",
   "execution_count": null,
   "metadata": {
    "collapsed": true
   },
   "outputs": [],
   "source": []
  }
 ],
 "metadata": {
  "kernelspec": {
   "display_name": "Python 3",
   "language": "python",
   "name": "python3"
  },
  "language_info": {
   "codemirror_mode": {
    "name": "ipython",
    "version": 3
   },
   "file_extension": ".py",
   "mimetype": "text/x-python",
   "name": "python",
   "nbconvert_exporter": "python",
   "pygments_lexer": "ipython3",
   "version": "3.4.5"
  }
 },
 "nbformat": 4,
 "nbformat_minor": 1
}

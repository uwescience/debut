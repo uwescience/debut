{
 "metadata": {
  "name": "",
  "signature": "sha256:c44122eb63d4db3d583693e0b51715d40b11ff0815afc5477d2051ccf73c161f"
 },
 "nbformat": 3,
 "nbformat_minor": 0,
 "worksheets": [
  {
   "cells": [
    {
     "cell_type": "code",
     "collapsed": false,
     "input": [
      "!date\n",
      "import numpy as np, pandas as pd, matplotlib.pyplot as plt, seaborn as sns\n",
      "%matplotlib inline\n",
      "sns.set_context('paper')\n",
      "sns.set_style('darkgrid')\n",
      "pd.set_option('max_rows',10)"
     ],
     "language": "python",
     "metadata": {},
     "outputs": [
      {
       "output_type": "stream",
       "stream": "stdout",
       "text": [
        "Tue Aug 16 09:40:07 PDT 2016\r\n"
       ]
      },
      {
       "output_type": "stream",
       "stream": "stdout",
       "text": [
        "The history saving thread hit an unexpected error (OperationalError('attempt to write a readonly database',)).History will not be written to the database.\n"
       ]
      }
     ],
     "prompt_number": 8
    },
    {
     "cell_type": "code",
     "collapsed": false,
     "input": [
      "%cd ~/projects/2016/new_debut"
     ],
     "language": "python",
     "metadata": {},
     "outputs": [
      {
       "output_type": "stream",
       "stream": "stdout",
       "text": [
        "/snfs2/HOME/abie/projects/2016/new_debut\n"
       ]
      }
     ],
     "prompt_number": 9
    },
    {
     "cell_type": "code",
     "collapsed": false,
     "input": [
      "import data\n",
      "reload(data)"
     ],
     "language": "python",
     "metadata": {},
     "outputs": [
      {
       "metadata": {},
       "output_type": "pyout",
       "prompt_number": 15,
       "text": [
        "<module 'data' from 'data.py'>"
       ]
      }
     ],
     "prompt_number": 15
    },
    {
     "cell_type": "markdown",
     "metadata": {},
     "source": [
      "# Load and prepare data - fast test"
     ]
    },
    {
     "cell_type": "code",
     "collapsed": false,
     "input": [
      "%%time\n",
      "\n",
      "df = data.load(10*1000)\n",
      "print('loaded dataframe with shape {}\\n'.format(df.shape))"
     ],
     "language": "python",
     "metadata": {},
     "outputs": [
      {
       "output_type": "stream",
       "stream": "stdout",
       "text": [
        "loaded dataframe with shape (14526, 3)\n",
        "\n",
        "\n",
        "CPU times: user 7.92 s, sys: 0 ns, total: 7.92 s\n",
        "Wall time: 11.8 s\n"
       ]
      }
     ],
     "prompt_number": 16
    },
    {
     "cell_type": "code",
     "collapsed": false,
     "input": [
      "%%time\n",
      "\n",
      "subjs = data.included_subjects(df)\n",
      "print('\\nselected {} subjects from full dataframe\\n'.format(len(subjs)))"
     ],
     "language": "python",
     "metadata": {},
     "outputs": [
      {
       "output_type": "stream",
       "stream": "stdout",
       "text": [
        "Initially included 3312 patients\n",
        "of which 3192 were finally included in analysis\n",
        "\n",
        "selected 3192 subjects from full dataframe\n",
        "\n",
        "CPU times: user 25.4 s, sys: 0 ns, total: 25.4 s\n",
        "Wall time: 25.4 s\n"
       ]
      }
     ],
     "prompt_number": 17
    },
    {
     "cell_type": "code",
     "collapsed": false,
     "input": [
      "%%time\n",
      "\n",
      "weeks_before = 2*52\n",
      "weeks_after = 48\n",
      "\n",
      "patient_df = data.clipped_labeled_sequences(df, subjs, weeks_before, weeks_after)"
     ],
     "language": "python",
     "metadata": {},
     "outputs": [
      {
       "output_type": "stream",
       "stream": "stdout",
       "text": [
        "CPU times: user 1min 13s, sys: 0 ns, total: 1min 13s\n",
        "Wall time: 1min 13s\n"
       ]
      }
     ],
     "prompt_number": 18
    },
    {
     "cell_type": "markdown",
     "metadata": {},
     "source": [
      "# Load and prepare data - slow, full"
     ]
    },
    {
     "cell_type": "code",
     "collapsed": false,
     "input": [
      "%%time\n",
      "\n",
      "df = data.load()\n",
      "print('loaded dataframe with shape {}\\n'.format(df.shape))"
     ],
     "language": "python",
     "metadata": {},
     "outputs": [
      {
       "output_type": "stream",
       "stream": "stdout",
       "text": [
        "loaded dataframe with shape (773509, 3)\n",
        "\n",
        "CPU times: user 5min 23s, sys: 19 s, total: 5min 42s\n",
        "Wall time: 5min 52s\n"
       ]
      }
     ],
     "prompt_number": 19
    },
    {
     "cell_type": "code",
     "collapsed": false,
     "input": [
      "%%time\n",
      "\n",
      "subjs = data.included_subjects(df)\n",
      "print('')"
     ],
     "language": "python",
     "metadata": {},
     "outputs": [
      {
       "output_type": "stream",
       "stream": "stdout",
       "text": [
        "Initially included 89914 patients\n",
        "of which 86587 were finally included in analysis\n",
        "\n",
        "CPU times: user 17min 43s, sys: 0 ns, total: 17min 43s\n",
        "Wall time: 17min 42s\n"
       ]
      }
     ]
    },
    {
     "cell_type": "markdown",
     "metadata": {},
     "source": [
      "Clipping will be varied for many parts of this analysis:"
     ]
    },
    {
     "cell_type": "code",
     "collapsed": false,
     "input": [
      "%%time\n",
      "\n",
      "weeks_before = 2*52\n",
      "weeks_after = 48\n",
      "\n",
      "patient_df = data.clipped_labeled_sequences(df, subjs, weeks_before, weeks_after)"
     ],
     "language": "python",
     "metadata": {},
     "outputs": []
    },
    {
     "cell_type": "code",
     "collapsed": false,
     "input": [
      "df.loc[subjs].to_csv('/home/j/LIMITED_USE/PROJECT_FOLDERS/DEBUT/prepped_data/subject_sequences.csv')"
     ],
     "language": "python",
     "metadata": {},
     "outputs": [],
     "prompt_number": 25
    },
    {
     "cell_type": "code",
     "collapsed": false,
     "input": [
      "patient_df.to_csv('/home/j/LIMITED_USE/PROJECT_FOLDERS/DEBUT/prepped_data/clipped_48_labeled_subject_sequences.csv')"
     ],
     "language": "python",
     "metadata": {},
     "outputs": [],
     "prompt_number": 26
    },
    {
     "cell_type": "code",
     "collapsed": false,
     "input": [],
     "language": "python",
     "metadata": {},
     "outputs": []
    }
   ],
   "metadata": {}
  }
 ]
}